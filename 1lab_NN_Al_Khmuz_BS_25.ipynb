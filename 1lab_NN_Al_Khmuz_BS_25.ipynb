{
  "nbformat": 4,
  "nbformat_minor": 0,
  "metadata": {
    "colab": {
      "provenance": [],
      "toc_visible": true,
      "authorship_tag": "ABX9TyOQ8nXQcC3iW/mA+CD3XvT2",
      "include_colab_link": true
    },
    "kernelspec": {
      "name": "python3",
      "display_name": "Python 3"
    },
    "language_info": {
      "name": "python"
    }
  },
  "cells": [
    {
      "cell_type": "markdown",
      "metadata": {
        "id": "view-in-github",
        "colab_type": "text"
      },
      "source": [
        "<a href=\"https://colab.research.google.com/github/kurkur19/Neural_networks_Al_Khmuz_BS_25/blob/main/1lab_NN_Al_Khmuz_BS_25.ipynb\" target=\"_parent\"><img src=\"https://colab.research.google.com/assets/colab-badge.svg\" alt=\"Open In Colab\"/></a>"
      ]
    },
    {
      "cell_type": "markdown",
      "source": [
        "#ПРАКТИЧНА РОБОТА №1\n",
        "######ВВЕДЕННЯ В PYTHON ТА ЙОГО БІБЛІОТЕКИ ДЛЯ ОБРОБКИ ТА АНАЛІЗУ ДАНИХ"
      ],
      "metadata": {
        "id": "_kKNndR5KXpw"
      }
    },
    {
      "cell_type": "markdown",
      "source": [
        "###Мета роботи:\n",
        "Ознайомитись з основами Python та додатковими бібліотеками для\n",
        "наукового обчислення - numpy, scipy, matplotlib."
      ],
      "metadata": {
        "id": "tT8GDfKKLGHK"
      }
    },
    {
      "cell_type": "markdown",
      "source": [
        "##Теоретична частина"
      ],
      "metadata": {
        "id": "6OtjUEHnLOur"
      }
    },
    {
      "cell_type": "markdown",
      "source": [
        "Python – це інтерпретована, високорівнева мова програмування, яка підтримує\n",
        "декілька парадигм програмування, включаючи структуроване, об'єктноорієнтоване та функціональне програмування."
      ],
      "metadata": {
        "id": "WLma5zDKLW7a"
      }
    },
    {
      "cell_type": "markdown",
      "source": [
        "NumPy (Numerical Python) – це фундаментальний пакет для наукових обчислень\n",
        "в Python. Він містить, зокрема, потужний N-вимірний масив об'єктів та\n",
        "інструменти для роботи з цими масивами."
      ],
      "metadata": {
        "id": "LI1BfojSLbD0"
      }
    },
    {
      "cell_type": "markdown",
      "source": [
        "Pandas – це відкрита бібліотека Python, що надає високопродуктивні, гнучкі\n",
        "структури даних і інструменти аналізу даних. Особливо відома своїми\n",
        "структурами даних DataFrame та Series.\n"
      ],
      "metadata": {
        "id": "Z9DbJTFfLfds"
      }
    },
    {
      "cell_type": "markdown",
      "source": [
        "Matplotlib – це бібліотека Python для створення статичних, анімованих та\n",
        "інтерактивних візуалізацій у Python."
      ],
      "metadata": {
        "id": "xLm4aAQnLjVu"
      }
    },
    {
      "cell_type": "markdown",
      "source": [
        "Scikit-learn – це одна з найпопулярніших бібліотек Python для машинного\n",
        "навчання. Вона надає широкий спектр алгоритмів навчання, включаючи\n",
        "класифікацію, регресію, кластеризацію та “редукцію” (від англійського reduction\n",
        "–зменшення) розмірності."
      ],
      "metadata": {
        "id": "xC3YfjNXLnXQ"
      }
    },
    {
      "cell_type": "markdown",
      "source": [
        "##Практична частина"
      ],
      "metadata": {
        "id": "l35YU9ixLxI_"
      }
    },
    {
      "cell_type": "markdown",
      "source": [
        "###Завдання 1 - Основи Python"
      ],
      "metadata": {
        "id": "4GZ8TK0pMKyH"
      }
    },
    {
      "cell_type": "markdown",
      "source": [
        "####1.1 Створити змінні різних типів (цілі числа, дробові числа, рядки, списки, словники) та вивести їх значення.\n"
      ],
      "metadata": {
        "id": "uOWuy3sBMSU0"
      }
    },
    {
      "cell_type": "code",
      "source": [
        "a = 5\n",
        "print(\"Ціле число:\", a)\n",
        "\n",
        "b = 6,28\n",
        "print(\"Дробове число:\", b)\n",
        "\n",
        "c = \"Neural_networks\"\n",
        "print(\"Ряд:\", c)\n",
        "\n",
        "lst = [1, 11, 111, 1111, 11111]\n",
        "print(\"Список:\", lst)\n",
        "\n",
        "dct = {\"Ivan\": 19, \"Ann\": 20}\n",
        "print(\"Словник:\", dct)\n",
        "\n",
        "\n"
      ],
      "metadata": {
        "id": "7_2Gk3sMMFU4",
        "outputId": "b602f4e1-d9b4-4d22-cbe1-7e95f7940b4a",
        "colab": {
          "base_uri": "https://localhost:8080/"
        }
      },
      "execution_count": 11,
      "outputs": [
        {
          "output_type": "stream",
          "name": "stdout",
          "text": [
            "Ціле число: 5\n",
            "Дробове число: (6, 28)\n",
            "Ряд: Neural_networks\n",
            "Список: [1, 11, 111, 1111, 11111]\n",
            "Словник: {'Ivan': 19, 'Ann': 20}\n"
          ]
        }
      ]
    },
    {
      "cell_type": "markdown",
      "source": [
        "####1.2 Створити умовний оператор, який перевіряє, чи є число парним чи непарним."
      ],
      "metadata": {
        "id": "R5bWzCEwPJU8"
      }
    },
    {
      "cell_type": "code",
      "source": [
        "a = 5\n",
        "b = 6\n",
        "\n",
        "if a % 2 == 0:\n",
        "  print(\"Число 'а' є парним.\")\n",
        "else:\n",
        "  print(\"Число 'а' є НЕпарним.\")\n",
        "\n",
        "if b % 2 == 0:\n",
        "  print(\"Число 'b' є парним.\")\n",
        "else:\n",
        "  print(\"Число 'b' є НЕпарним.\")"
      ],
      "metadata": {
        "id": "7n09v1rmPOwX",
        "outputId": "aa6d2a94-12b9-4845-fd7e-fefee52cf2a9",
        "colab": {
          "base_uri": "https://localhost:8080/"
        }
      },
      "execution_count": 16,
      "outputs": [
        {
          "output_type": "stream",
          "name": "stdout",
          "text": [
            "Число 'а' є НЕпарним.\n",
            "Число 'b' є парним.\n"
          ]
        }
      ]
    },
    {
      "cell_type": "markdown",
      "source": [
        "####1.3 Створити цикл for, який перебирає елементи списку, і цикл while, який працює, поки деяке задане умова не є істиною."
      ],
      "metadata": {
        "id": "jM1zs5vRRCD4"
      }
    },
    {
      "cell_type": "markdown",
      "source": [
        "Для циклу \"for\":"
      ],
      "metadata": {
        "id": "tQjVgCRbRLfr"
      }
    },
    {
      "cell_type": "code",
      "source": [
        "for i in range(11):\n",
        " print(i)\n"
      ],
      "metadata": {
        "id": "wLgVzM6lRIA6",
        "outputId": "59236e68-1c0c-4dd5-d664-23e4bf9ea4c0",
        "colab": {
          "base_uri": "https://localhost:8080/"
        }
      },
      "execution_count": 18,
      "outputs": [
        {
          "output_type": "stream",
          "name": "stdout",
          "text": [
            "0\n",
            "1\n",
            "2\n",
            "3\n",
            "4\n",
            "5\n",
            "6\n",
            "7\n",
            "8\n",
            "9\n",
            "10\n"
          ]
        }
      ]
    },
    {
      "cell_type": "markdown",
      "source": [
        "Для циклу \"while\":"
      ],
      "metadata": {
        "id": "IbZPGYwWReJZ"
      }
    },
    {
      "cell_type": "code",
      "source": [
        "i = 0\n",
        "while i <= 3:\n",
        " print(i)\n",
        " i += 1"
      ],
      "metadata": {
        "id": "MW4HzXmdRhr_",
        "outputId": "fb2ed891-3d84-495f-c3aa-94f307dc29a2",
        "colab": {
          "base_uri": "https://localhost:8080/"
        }
      },
      "execution_count": 21,
      "outputs": [
        {
          "output_type": "stream",
          "name": "stdout",
          "text": [
            "0\n",
            "1\n",
            "2\n",
            "3\n"
          ]
        }
      ]
    },
    {
      "cell_type": "markdown",
      "source": [
        "####1.4 Створити функцію, яка приймає вхідні параметри та виконує певні дії з ними (наприклад, виводить на екран, збільшує на 1 тощо)."
      ],
      "metadata": {
        "id": "LyltBQRaRx7b"
      }
    },
    {
      "cell_type": "code",
      "source": [
        "def increases_by_one(number):\n",
        "    increased_number = number + 1\n",
        "    print(f\"Число після збільшення на 1: {increased_number}\")\n",
        "\n",
        "increases_by_one(100)\n"
      ],
      "metadata": {
        "id": "aWfNOc7tR6px",
        "outputId": "b84e0a8c-b4d2-4461-f33f-2f5fdececa71",
        "colab": {
          "base_uri": "https://localhost:8080/"
        }
      },
      "execution_count": 26,
      "outputs": [
        {
          "output_type": "stream",
          "name": "stdout",
          "text": [
            "Число після збільшення на 1: 101\n"
          ]
        }
      ]
    }
  ]
}