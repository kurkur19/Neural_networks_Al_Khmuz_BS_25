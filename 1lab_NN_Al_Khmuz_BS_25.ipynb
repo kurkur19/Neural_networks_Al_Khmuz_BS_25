{
  "nbformat": 4,
  "nbformat_minor": 0,
  "metadata": {
    "colab": {
      "provenance": [],
      "toc_visible": true,
      "authorship_tag": "ABX9TyNX2e48DGk9D27gajuxlGTN",
      "include_colab_link": true
    },
    "kernelspec": {
      "name": "python3",
      "display_name": "Python 3"
    },
    "language_info": {
      "name": "python"
    }
  },
  "cells": [
    {
      "cell_type": "markdown",
      "metadata": {
        "id": "view-in-github",
        "colab_type": "text"
      },
      "source": [
        "<a href=\"https://colab.research.google.com/github/kurkur19/Neural_networks_Al_Khmuz_BS_25/blob/main/1lab_NN_Al_Khmuz_BS_25.ipynb\" target=\"_parent\"><img src=\"https://colab.research.google.com/assets/colab-badge.svg\" alt=\"Open In Colab\"/></a>"
      ]
    },
    {
      "cell_type": "markdown",
      "source": [
        "#ПРАКТИЧНА РОБОТА №1\n",
        "######ВВЕДЕННЯ В PYTHON ТА ЙОГО БІБЛІОТЕКИ ДЛЯ ОБРОБКИ ТА АНАЛІЗУ ДАНИХ"
      ],
      "metadata": {
        "id": "_kKNndR5KXpw"
      }
    },
    {
      "cell_type": "markdown",
      "source": [
        "###Мета роботи:\n",
        "Ознайомитись з основами Python та додатковими бібліотеками для\n",
        "наукового обчислення - numpy, scipy, matplotlib."
      ],
      "metadata": {
        "id": "tT8GDfKKLGHK"
      }
    },
    {
      "cell_type": "markdown",
      "source": [
        "##Теоретична частина"
      ],
      "metadata": {
        "id": "6OtjUEHnLOur"
      }
    },
    {
      "cell_type": "markdown",
      "source": [
        "Python – це інтерпретована, високорівнева мова програмування, яка підтримує\n",
        "декілька парадигм програмування, включаючи структуроване, об'єктноорієнтоване та функціональне програмування."
      ],
      "metadata": {
        "id": "WLma5zDKLW7a"
      }
    },
    {
      "cell_type": "markdown",
      "source": [
        "NumPy (Numerical Python) – це фундаментальний пакет для наукових обчислень\n",
        "в Python. Він містить, зокрема, потужний N-вимірний масив об'єктів та\n",
        "інструменти для роботи з цими масивами."
      ],
      "metadata": {
        "id": "LI1BfojSLbD0"
      }
    },
    {
      "cell_type": "markdown",
      "source": [
        "Pandas – це відкрита бібліотека Python, що надає високопродуктивні, гнучкі\n",
        "структури даних і інструменти аналізу даних. Особливо відома своїми\n",
        "структурами даних DataFrame та Series.\n"
      ],
      "metadata": {
        "id": "Z9DbJTFfLfds"
      }
    },
    {
      "cell_type": "markdown",
      "source": [
        "Matplotlib – це бібліотека Python для створення статичних, анімованих та\n",
        "інтерактивних візуалізацій у Python."
      ],
      "metadata": {
        "id": "xLm4aAQnLjVu"
      }
    },
    {
      "cell_type": "markdown",
      "source": [
        "Scikit-learn – це одна з найпопулярніших бібліотек Python для машинного\n",
        "навчання. Вона надає широкий спектр алгоритмів навчання, включаючи\n",
        "класифікацію, регресію, кластеризацію та “редукцію” (від англійського reduction\n",
        "–зменшення) розмірності."
      ],
      "metadata": {
        "id": "xC3YfjNXLnXQ"
      }
    },
    {
      "cell_type": "markdown",
      "source": [
        "##Практична частина"
      ],
      "metadata": {
        "id": "l35YU9ixLxI_"
      }
    },
    {
      "cell_type": "code",
      "source": [],
      "metadata": {
        "id": "R_Mhzb00LTB8"
      },
      "execution_count": null,
      "outputs": []
    }
  ]
}