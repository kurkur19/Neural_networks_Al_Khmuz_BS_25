{
  "nbformat": 4,
  "nbformat_minor": 0,
  "metadata": {
    "colab": {
      "provenance": [],
      "toc_visible": true,
      "authorship_tag": "ABX9TyPBKf+6D3gfeOD7PExEy/L6",
      "include_colab_link": true
    },
    "kernelspec": {
      "name": "python3",
      "display_name": "Python 3"
    },
    "language_info": {
      "name": "python"
    }
  },
  "cells": [
    {
      "cell_type": "markdown",
      "metadata": {
        "id": "view-in-github",
        "colab_type": "text"
      },
      "source": [
        "<a href=\"https://colab.research.google.com/github/kurkur19/Neural_networks_Al_Khmuz_BS_25/blob/main/1lab_NN_Al_Khmuz_BS_25.ipynb\" target=\"_parent\"><img src=\"https://colab.research.google.com/assets/colab-badge.svg\" alt=\"Open In Colab\"/></a>"
      ]
    },
    {
      "cell_type": "markdown",
      "source": [
        "#ПРАКТИЧНА РОБОТА №1\n",
        "######ВВЕДЕННЯ В PYTHON ТА ЙОГО БІБЛІОТЕКИ ДЛЯ ОБРОБКИ ТА АНАЛІЗУ ДАНИХ"
      ],
      "metadata": {
        "id": "_kKNndR5KXpw"
      }
    },
    {
      "cell_type": "markdown",
      "source": [
        "###Мета роботи:\n",
        "Ознайомитись з основами Python та додатковими бібліотеками для\n",
        "наукового обчислення - numpy, scipy, matplotlib."
      ],
      "metadata": {
        "id": "tT8GDfKKLGHK"
      }
    },
    {
      "cell_type": "markdown",
      "source": [
        "##Теоретична частина"
      ],
      "metadata": {
        "id": "6OtjUEHnLOur"
      }
    },
    {
      "cell_type": "markdown",
      "source": [
        "Python – це інтерпретована, високорівнева мова програмування, яка підтримує\n",
        "декілька парадигм програмування, включаючи структуроване, об'єктноорієнтоване та функціональне програмування."
      ],
      "metadata": {
        "id": "WLma5zDKLW7a"
      }
    },
    {
      "cell_type": "markdown",
      "source": [
        "NumPy (Numerical Python) – це фундаментальний пакет для наукових обчислень\n",
        "в Python. Він містить, зокрема, потужний N-вимірний масив об'єктів та\n",
        "інструменти для роботи з цими масивами."
      ],
      "metadata": {
        "id": "LI1BfojSLbD0"
      }
    },
    {
      "cell_type": "markdown",
      "source": [
        "Pandas – це відкрита бібліотека Python, що надає високопродуктивні, гнучкі\n",
        "структури даних і інструменти аналізу даних. Особливо відома своїми\n",
        "структурами даних DataFrame та Series.\n"
      ],
      "metadata": {
        "id": "Z9DbJTFfLfds"
      }
    },
    {
      "cell_type": "markdown",
      "source": [
        "Matplotlib – це бібліотека Python для створення статичних, анімованих та\n",
        "інтерактивних візуалізацій у Python."
      ],
      "metadata": {
        "id": "xLm4aAQnLjVu"
      }
    },
    {
      "cell_type": "markdown",
      "source": [
        "Scikit-learn – це одна з найпопулярніших бібліотек Python для машинного\n",
        "навчання. Вона надає широкий спектр алгоритмів навчання, включаючи\n",
        "класифікацію, регресію, кластеризацію та “редукцію” (від англійського reduction\n",
        "–зменшення) розмірності."
      ],
      "metadata": {
        "id": "xC3YfjNXLnXQ"
      }
    },
    {
      "cell_type": "markdown",
      "source": [
        "##Практична частина"
      ],
      "metadata": {
        "id": "l35YU9ixLxI_"
      }
    },
    {
      "cell_type": "markdown",
      "source": [
        "###Завдання 1 - Основи Python"
      ],
      "metadata": {
        "id": "4GZ8TK0pMKyH"
      }
    },
    {
      "cell_type": "markdown",
      "source": [
        "####1.1 Створити змінні різних типів (цілі числа, дробові числа, рядки, списки, словники) та вивести їх значення.\n"
      ],
      "metadata": {
        "id": "uOWuy3sBMSU0"
      }
    },
    {
      "cell_type": "code",
      "source": [
        "a = 5\n",
        "print(\"Ціле число:\", a)\n",
        "\n",
        "b = 6,28\n",
        "print(\"Дробове число:\", b)\n",
        "\n",
        "c = \"Neural_networks\"\n",
        "print(\"Ряд:\", c)\n",
        "\n",
        "lst = [1, 11, 111, 1111, 11111]\n",
        "print(\"Список:\", lst)\n",
        "\n",
        "dct = {\"Ivan\": 19, \"Ann\": 20}\n",
        "print(\"Словник:\", dct)\n",
        "\n",
        "\n"
      ],
      "metadata": {
        "colab": {
          "base_uri": "https://localhost:8080/"
        },
        "id": "7_2Gk3sMMFU4",
        "outputId": "b602f4e1-d9b4-4d22-cbe1-7e95f7940b4a"
      },
      "execution_count": 11,
      "outputs": [
        {
          "output_type": "stream",
          "name": "stdout",
          "text": [
            "Ціле число: 5\n",
            "Дробове число: (6, 28)\n",
            "Ряд: Neural_networks\n",
            "Список: [1, 11, 111, 1111, 11111]\n",
            "Словник: {'Ivan': 19, 'Ann': 20}\n"
          ]
        }
      ]
    },
    {
      "cell_type": "markdown",
      "source": [
        "####1.2 Створити умовний оператор, який перевіряє, чи є число парним чи непарним."
      ],
      "metadata": {
        "id": "R5bWzCEwPJU8"
      }
    },
    {
      "cell_type": "code",
      "source": [
        "a = 5\n",
        "b = 6\n",
        "\n",
        "if a % 2 == 0:\n",
        "  print(\"Число 'а' є парним.\")\n",
        "else:\n",
        "  print(\"Число 'а' є НЕпарним.\")\n",
        "\n",
        "if b % 2 == 0:\n",
        "  print(\"Число 'b' є парним.\")\n",
        "else:\n",
        "  print(\"Число 'b' є НЕпарним.\")"
      ],
      "metadata": {
        "colab": {
          "base_uri": "https://localhost:8080/"
        },
        "id": "7n09v1rmPOwX",
        "outputId": "aa6d2a94-12b9-4845-fd7e-fefee52cf2a9"
      },
      "execution_count": 16,
      "outputs": [
        {
          "output_type": "stream",
          "name": "stdout",
          "text": [
            "Число 'а' є НЕпарним.\n",
            "Число 'b' є парним.\n"
          ]
        }
      ]
    },
    {
      "cell_type": "markdown",
      "source": [
        "####1.3 Створити цикл for, який перебирає елементи списку, і цикл while, який працює, поки деяке задане умова не є істиною."
      ],
      "metadata": {
        "id": "jM1zs5vRRCD4"
      }
    },
    {
      "cell_type": "markdown",
      "source": [
        "Для циклу \"for\":"
      ],
      "metadata": {
        "id": "tQjVgCRbRLfr"
      }
    },
    {
      "cell_type": "code",
      "source": [
        "for i in range(11):\n",
        " print(i)\n"
      ],
      "metadata": {
        "colab": {
          "base_uri": "https://localhost:8080/"
        },
        "id": "wLgVzM6lRIA6",
        "outputId": "59236e68-1c0c-4dd5-d664-23e4bf9ea4c0"
      },
      "execution_count": 18,
      "outputs": [
        {
          "output_type": "stream",
          "name": "stdout",
          "text": [
            "0\n",
            "1\n",
            "2\n",
            "3\n",
            "4\n",
            "5\n",
            "6\n",
            "7\n",
            "8\n",
            "9\n",
            "10\n"
          ]
        }
      ]
    },
    {
      "cell_type": "markdown",
      "source": [
        "Для циклу \"while\":"
      ],
      "metadata": {
        "id": "IbZPGYwWReJZ"
      }
    },
    {
      "cell_type": "code",
      "source": [
        "i = 0\n",
        "while i <= 3:\n",
        " print(i)\n",
        " i += 1"
      ],
      "metadata": {
        "colab": {
          "base_uri": "https://localhost:8080/"
        },
        "id": "MW4HzXmdRhr_",
        "outputId": "fb2ed891-3d84-495f-c3aa-94f307dc29a2"
      },
      "execution_count": 21,
      "outputs": [
        {
          "output_type": "stream",
          "name": "stdout",
          "text": [
            "0\n",
            "1\n",
            "2\n",
            "3\n"
          ]
        }
      ]
    },
    {
      "cell_type": "markdown",
      "source": [
        "####1.4 Створити функцію, яка приймає вхідні параметри та виконує певні дії з ними (наприклад, виводить на екран, збільшує на 1 тощо)."
      ],
      "metadata": {
        "id": "LyltBQRaRx7b"
      }
    },
    {
      "cell_type": "code",
      "source": [
        "def increases_by_one(number):\n",
        "    increased_number = number + 1\n",
        "    print(f\"Число після збільшення на 1: {increased_number}\")\n",
        "\n",
        "increases_by_one(100)\n"
      ],
      "metadata": {
        "colab": {
          "base_uri": "https://localhost:8080/"
        },
        "id": "aWfNOc7tR6px",
        "outputId": "b84e0a8c-b4d2-4461-f33f-2f5fdececa71"
      },
      "execution_count": 26,
      "outputs": [
        {
          "output_type": "stream",
          "name": "stdout",
          "text": [
            "Число після збільшення на 1: 101\n"
          ]
        }
      ]
    },
    {
      "cell_type": "markdown",
      "source": [
        "###Завдання 2 - Використання numpy"
      ],
      "metadata": {
        "id": "tY_Gb1JEWszv"
      }
    },
    {
      "cell_type": "markdown",
      "source": [
        "####2.1. Створити масив numpy різних типів (одномірний, двомірний) та вивести їх розмірність."
      ],
      "metadata": {
        "id": "SLLthV53W_T8"
      }
    },
    {
      "cell_type": "markdown",
      "source": [
        "Встановлюємо бібліотеку NumPy:"
      ],
      "metadata": {
        "id": "8ETQ7p-uXklO"
      }
    },
    {
      "cell_type": "code",
      "source": [
        "import numpy as np"
      ],
      "metadata": {
        "id": "W-BMQMmWW97X"
      },
      "execution_count": 27,
      "outputs": []
    },
    {
      "cell_type": "code",
      "source": [
        "a = np.array([1, 2, 3]) # Створити одновимірний масив\n",
        "b = np.array([(1.5,2,3), (4,5,6)], dtype = float) # Створити двовимірний масив\n",
        "\n",
        "print(\"Розмірність масиву a:\", a.ndim)\n",
        "print(\"Розмірність масиву b:\", b.ndim)"
      ],
      "metadata": {
        "id": "Ww7wtK3_Xtad",
        "outputId": "03bc3d66-7612-48b7-97c6-4ea42d51c3e2",
        "colab": {
          "base_uri": "https://localhost:8080/"
        }
      },
      "execution_count": 28,
      "outputs": [
        {
          "output_type": "stream",
          "name": "stdout",
          "text": [
            "Розмірність масиву a: 1\n",
            "Розмірність масиву b: 2\n"
          ]
        }
      ]
    },
    {
      "cell_type": "markdown",
      "source": [
        "####2.2. Виконати базові арифметичні операції над масивами (додавання, множення)."
      ],
      "metadata": {
        "id": "b48SngIHYHq5"
      }
    },
    {
      "cell_type": "code",
      "source": [
        "a = np.array([20, 105, 1])\n",
        "b = np.array([80, 95, 299])\n",
        "print(\"Додавання масивів а та b:\", a+b)\n",
        "\n",
        "c = np.array([1, 2, 3, 4 ])\n",
        "d = np.array([1, 2, 3, 4])\n",
        "print(\"Множення масивів c та d:\", c*d)\n"
      ],
      "metadata": {
        "id": "EWu5HaTmYRZy",
        "outputId": "d4859147-8d6a-4ac1-ebe6-781623956212",
        "colab": {
          "base_uri": "https://localhost:8080/"
        }
      },
      "execution_count": 34,
      "outputs": [
        {
          "output_type": "stream",
          "name": "stdout",
          "text": [
            "Додавання масивів а та b: [100 200 300]\n",
            "Множення масивів c та d: [ 1  4  9 16]\n"
          ]
        }
      ]
    },
    {
      "cell_type": "markdown",
      "source": [
        "####2.3. Створити масив значень, що розташовані в діапазоні від 0 до 1 з кроком 0.1."
      ],
      "metadata": {
        "id": "ngVP9Vo5aXIE"
      }
    },
    {
      "cell_type": "code",
      "source": [
        "a = np.array([0, 0.1, 0.2, 0,3, 0.4, 0.5, 0.6, 0.7, 0.8, 0.9, 1],  dtype = float)\n",
        "a"
      ],
      "metadata": {
        "id": "pfVJ_sIWaZN0",
        "outputId": "f340203c-95fb-48a4-9a56-f0bb11e13fa6",
        "colab": {
          "base_uri": "https://localhost:8080/"
        }
      },
      "execution_count": 37,
      "outputs": [
        {
          "output_type": "execute_result",
          "data": {
            "text/plain": [
              "array([0. , 0.1, 0.2, 0. , 3. , 0.4, 0.5, 0.6, 0.7, 0.8, 0.9, 1. ])"
            ]
          },
          "metadata": {},
          "execution_count": 37
        }
      ]
    }
  ]
}