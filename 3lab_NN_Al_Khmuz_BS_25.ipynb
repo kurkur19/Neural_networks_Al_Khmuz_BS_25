{
  "nbformat": 4,
  "nbformat_minor": 0,
  "metadata": {
    "colab": {
      "provenance": [],
      "toc_visible": true,
      "authorship_tag": "ABX9TyPD3WjACbL3ZKJHqvkz1BhB",
      "include_colab_link": true
    },
    "kernelspec": {
      "name": "python3",
      "display_name": "Python 3"
    },
    "language_info": {
      "name": "python"
    }
  },
  "cells": [
    {
      "cell_type": "markdown",
      "metadata": {
        "id": "view-in-github",
        "colab_type": "text"
      },
      "source": [
        "<a href=\"https://colab.research.google.com/github/kurkur19/Neural_networks_Al_Khmuz_BS_25/blob/main/3lab_NN_Al_Khmuz_BS_25.ipynb\" target=\"_parent\"><img src=\"https://colab.research.google.com/assets/colab-badge.svg\" alt=\"Open In Colab\"/></a>"
      ]
    },
    {
      "cell_type": "markdown",
      "source": [
        "#ПРАКТИЧНА РОБОТА 3: РОЗРОБКА ПРОСТОЇ НЕЙРОННОЇ МЕРЕЖІ\n",
        "ДЛЯ ЗАДАЧІ КЛАСИФІКАЦІЇ, ЗАСТОСОВУЮЧИ ГРАДІЄНТНИЙ\n",
        "СПУСК."
      ],
      "metadata": {
        "id": "nTPVvnnRjgef"
      }
    },
    {
      "cell_type": "markdown",
      "source": [
        "Виконала студентка групи БС-25 Аль Хмуз Карина Бассамівна"
      ],
      "metadata": {
        "id": "fy5QDPabjjyr"
      }
    },
    {
      "cell_type": "markdown",
      "source": [
        "##*Теоретична частина*"
      ],
      "metadata": {
        "id": "8WYDoMOijp4h"
      }
    },
    {
      "cell_type": "markdown",
      "source": [
        "###**Нейронні мережі та їх застосування**"
      ],
      "metadata": {
        "id": "0GWAfAZHmQvo"
      }
    },
    {
      "cell_type": "markdown",
      "source": [
        "Нейронні мережі — це одна з основних технологій в області машинного навчання та штучного інтелекту. Вони натхненні структурою та роботою людського мозку, що дозволяє їм вивчати складні закономірності в даних, навіть коли ці закономірності неочевидні. Нейронні мережі складаються з взаємопов'язаних вузлів, або \"нейронів\", які обробляють інформацію і передають її далі через шари мережі.\n",
        "\n",
        "Нейронні мережі використовуються для різних задач, таких як:\n",
        "\n",
        "- Класифікація зображень та тексту.\n",
        "- Прогнозування фінансових та економічних показників.\n",
        "- Розпізнавання мови.\n",
        "- Класифікація та прогнозування в біомедичних даних, таких як Wine Dataset."
      ],
      "metadata": {
        "id": "yaTOr-qpmXEq"
      }
    },
    {
      "cell_type": "markdown",
      "source": [
        "###**Основні компоненти нейронної мережі**"
      ],
      "metadata": {
        "id": "__nXTwGUmiTA"
      }
    },
    {
      "cell_type": "markdown",
      "source": [
        "Вхідний шар: Це перший шар мережі, який отримує дані для обробки. У нашому випадку це набір ознак для кожного зразка в Wine Dataset, наприклад, різні хімічні компоненти вина.\n",
        "\n",
        "Приховані шари: Мережа може містити один або кілька прихованих шарів, де відбувається обробка інформації. Нейрони в цих шарах використовують активаційні функції, щоб трансформувати сигнали і передавати їх далі. Часто використовувані активаційні функції: sigmoid, ReLU, tanh.\n",
        "\n",
        "Вихідний шар: На виході модель приймає рішення про класифікацію. Вона повертає ймовірність приналежності зразка до кожного з можливих класів. У випадку Wine Dataset це клас вина (0, 1, 2).\n",
        "\n",
        "Функція втрат: Це функція, яка визначає, наскільки добре або погано модель виконує свою задачу. Для класифікаційних задач часто використовують крос-ентропію, яка вимірює різницю між прогнозованими та реальними значеннями."
      ],
      "metadata": {
        "id": "I5_zEevimnis"
      }
    },
    {
      "cell_type": "markdown",
      "source": [
        "###**Процес навчання нейронної мережі**"
      ],
      "metadata": {
        "id": "aKK1D6Rumrvs"
      }
    },
    {
      "cell_type": "markdown",
      "source": [
        "Навчання нейронної мережі полягає у налаштуванні її параметрів (ваг та зміщень), щоб мінімізувати функцію втрат. Це досягається через градієнтний спуск:\n",
        "\n",
        "- Обчислюється похідна функції втрат (градієнт) відносно параметрів мережі.\n",
        "- Ці параметри коригуються в напрямку зменшення втрат, що допомагає моделі кращим чином узагальнювати нові дані."
      ],
      "metadata": {
        "id": "bvzRjmRWmyAb"
      }
    },
    {
      "cell_type": "markdown",
      "source": [
        "###**Проблеми при навчанні нейронних мереж**"
      ],
      "metadata": {
        "id": "P4vjery9m23i"
      }
    },
    {
      "cell_type": "markdown",
      "source": [
        "1. Затухання градієнтів: Проблема виникає, коли градієнти на етапі зворотного поширення дуже малі, що призводить до того, що вага моделі майже не оновлюється. Це часто трапляється при використанні функції активації sigmoid. Тому для покращення навчання використовуються інші активаційні функції, такі як ReLU.\n",
        "\n",
        "2. Локальні мінімумі: При навчанні мережі алгоритм може \"застрягти\" в локальному мінімумі функції втрат, де подальше покращення неможливе. Тому важливо вибирати правильні ініціалізації ваг та методи оптимізації.\n",
        "\n"
      ],
      "metadata": {
        "id": "KYS2fnaom6W5"
      }
    },
    {
      "cell_type": "markdown",
      "source": [
        "##*Практична частина*"
      ],
      "metadata": {
        "id": "GY162n9rnBbC"
      }
    },
    {
      "cell_type": "markdown",
      "source": [
        "Тепер ми переходимо до практичної частини роботи, де будемо застосовувати отримані знання на конкретному прикладі :)\n",
        "\n",
        "Маючи перший варіант, для нашого експерименту ми обрали Wine Dataset — набір даних, який містить інформацію про різні хімічні компоненти вина і використовує ці характеристики для класифікації вина за різними класами. Це класична задача багатокласової класифікації, в якій ми маємо передбачити один з трьох класів вина на основі наданих ознак."
      ],
      "metadata": {
        "id": "kBaYVQRCncjD"
      }
    },
    {
      "cell_type": "markdown",
      "source": [
        "###Опис датасету"
      ],
      "metadata": {
        "id": "Svs2PHTNnyQh"
      }
    },
    {
      "cell_type": "markdown",
      "source": [
        "**Wine Dataset** складається з 178 зразків вина, з яких кожен описаний 13-ма хімічними характеристиками, такими як рівень алкоголю, кислотність, вміст фенолів та інші параметри. Кожен зразок належить до одного з трьох класів вин, що дає змогу використовувати цей датасет для задачі класифікації.\n",
        "\n",
        "X: Містить 13 ознак для кожного зразка вина.\n",
        "\n",
        "y: Містить клас вина для кожного зразка (значення 0, 1 або 2).\n",
        "Ми будемо використовувати цей датасет для побудови нейронної мережі, яка повинна навчитися правильно класифікувати вино за заданими характеристиками."
      ],
      "metadata": {
        "id": "fvknyZuhn2rc"
      }
    },
    {
      "cell_type": "markdown",
      "source": [
        "###Крок 1: Завантаження та підготовка датасету"
      ],
      "metadata": {
        "id": "B7sc0iykddP7"
      }
    },
    {
      "cell_type": "markdown",
      "source": [
        "####Імпорт бібліотек"
      ],
      "metadata": {
        "id": "g2facHfQoO0-"
      }
    },
    {
      "cell_type": "code",
      "source": [
        "import numpy as np\n",
        "import pandas as pd\n",
        "from sklearn.datasets import load_wine\n",
        "from sklearn.model_selection import train_test_split\n",
        "from sklearn.preprocessing import StandardScaler\n",
        "from sklearn.metrics import classification_report, accuracy_score"
      ],
      "metadata": {
        "id": "ts31D9ScoWNM"
      },
      "execution_count": 1,
      "outputs": []
    },
    {
      "cell_type": "markdown",
      "source": [
        "#### Завантаження Wine Dataset\n"
      ],
      "metadata": {
        "id": "5P9zSRbRobF_"
      }
    },
    {
      "cell_type": "code",
      "source": [
        "data = load_wine()\n",
        "X, y = data.data, data.target"
      ],
      "metadata": {
        "id": "MmYHQFREod4f"
      },
      "execution_count": 2,
      "outputs": []
    },
    {
      "cell_type": "markdown",
      "source": [
        "####Масштабування даних"
      ],
      "metadata": {
        "id": "r3i4kkr6ospA"
      }
    },
    {
      "cell_type": "code",
      "source": [
        "scaler = StandardScaler()\n",
        "X_scaled = scaler.fit_transform(X)"
      ],
      "metadata": {
        "id": "aFZ9fC-Xovay"
      },
      "execution_count": 3,
      "outputs": []
    },
    {
      "cell_type": "markdown",
      "source": [
        "####Розділення на тренувальний і тестовий набори"
      ],
      "metadata": {
        "id": "CmKa0SBqoyrK"
      }
    },
    {
      "cell_type": "code",
      "source": [
        "X_train, X_test, y_train, y_test = train_test_split(X_scaled, y, test_size=0.2, random_state=42)"
      ],
      "metadata": {
        "id": "355z-XtKo18O"
      },
      "execution_count": 4,
      "outputs": []
    },
    {
      "cell_type": "markdown",
      "source": [
        "####Перетворення y у формат one-hot (для нейронної мережі)"
      ],
      "metadata": {
        "id": "ToEgdfDDo51l"
      }
    },
    {
      "cell_type": "code",
      "execution_count": 5,
      "metadata": {
        "colab": {
          "base_uri": "https://localhost:8080/"
        },
        "id": "Pb_iT1DOcLpf",
        "outputId": "a09c38a1-1dae-4dda-bcc4-374c15bdc525"
      },
      "outputs": [
        {
          "output_type": "stream",
          "name": "stdout",
          "text": [
            "Дані готові до використання!\n"
          ]
        }
      ],
      "source": [
        "def to_one_hot(labels, num_classes):\n",
        "    one_hot = np.zeros((labels.size, num_classes))\n",
        "    one_hot[np.arange(labels.size), labels] = 1\n",
        "    return one_hot\n",
        "\n",
        "y_train_one_hot = to_one_hot(y_train, num_classes=np.unique(y).size)\n",
        "y_test_one_hot = to_one_hot(y_test, num_classes=np.unique(y).size)\n",
        "\n",
        "print(\"Дані готові до використання!\")\n"
      ]
    },
    {
      "cell_type": "markdown",
      "source": [
        "###Крок 2: Реалізація нейронної мережі"
      ],
      "metadata": {
        "id": "uT5J5UlbdgrH"
      }
    },
    {
      "cell_type": "markdown",
      "source": [
        "Переходимо до другого кроку: реалізації простої нейронної мережі з нуля за допомогою NumPy. Ми створимо багатошарову мережу з одним прихованим шаром для задачі багатокласової класифікаці"
      ],
      "metadata": {
        "id": "qZxy1ItzpXI_"
      }
    },
    {
      "cell_type": "markdown",
      "source": [
        "#####Ініціалізація параметрів"
      ],
      "metadata": {
        "id": "sn-QVN7wpfOz"
      }
    },
    {
      "cell_type": "code",
      "source": [
        "def initialize_parameters(n_input, n_hidden, n_output):\n",
        "    np.random.seed(42)\n",
        "    W1 = np.random.randn(n_input, n_hidden) * 0.01\n",
        "    b1 = np.zeros((1, n_hidden))\n",
        "    W2 = np.random.randn(n_hidden, n_output) * 0.01\n",
        "    b2 = np.zeros((1, n_output))\n",
        "    return W1, b1, W2, b2"
      ],
      "metadata": {
        "id": "2MZckH_YpjY2"
      },
      "execution_count": 6,
      "outputs": []
    },
    {
      "cell_type": "markdown",
      "source": [
        "#####Функції активації"
      ],
      "metadata": {
        "id": "58fWljLppl27"
      }
    },
    {
      "cell_type": "code",
      "source": [
        "def sigmoid(Z):\n",
        "    return 1 / (1 + np.exp(-Z))\n",
        "\n",
        "def sigmoid_derivative(A):\n",
        "    return A * (1 - A)\n",
        "\n",
        "def softmax(Z):\n",
        "    expZ = np.exp(Z - np.max(Z))  # Запобігаємо чисельним переповненням\n",
        "    return expZ / expZ.sum(axis=1, keepdims=True)\n"
      ],
      "metadata": {
        "id": "JQ4JbYBMpqe3"
      },
      "execution_count": 7,
      "outputs": []
    },
    {
      "cell_type": "markdown",
      "source": [
        "####Прямий прохід"
      ],
      "metadata": {
        "id": "DSXBuH3CpuU-"
      }
    },
    {
      "cell_type": "code",
      "source": [
        "def forward_pass(X, W1, b1, W2, b2):\n",
        "    Z1 = np.dot(X, W1) + b1\n",
        "    A1 = sigmoid(Z1)\n",
        "    Z2 = np.dot(A1, W2) + b2\n",
        "    A2 = softmax(Z2)\n",
        "    return Z1, A1, Z2, A2"
      ],
      "metadata": {
        "id": "69f-NguzpyJw"
      },
      "execution_count": 8,
      "outputs": []
    },
    {
      "cell_type": "markdown",
      "source": [
        "####Зворотний прохід"
      ],
      "metadata": {
        "id": "LfK7sZw5p0xf"
      }
    },
    {
      "cell_type": "code",
      "source": [
        "def backward_pass(X, Y, Z1, A1, Z2, A2, W1, b1, W2, b2, learning_rate=0.01):\n",
        "    m = X.shape[0]\n",
        "\n",
        "    # Обчислення похідних\n",
        "    dZ2 = A2 - Y\n",
        "    dW2 = np.dot(A1.T, dZ2) / m\n",
        "    db2 = np.sum(dZ2, axis=0, keepdims=True) / m\n",
        "\n",
        "    dA1 = np.dot(dZ2, W2.T)\n",
        "    dZ1 = dA1 * sigmoid_derivative(A1)\n",
        "    dW1 = np.dot(X.T, dZ1) / m\n",
        "    db1 = np.sum(dZ1, axis=0, keepdims=True) / m\n",
        "\n",
        "    # Оновлення параметрів\n",
        "    W2 -= learning_rate * dW2\n",
        "    b2 -= learning_rate * db2\n",
        "    W1 -= learning_rate * dW1\n",
        "    b1 -= learning_rate * db1\n",
        "\n",
        "    return W1, b1, W2, b2"
      ],
      "metadata": {
        "id": "VRha3jCnp6hj"
      },
      "execution_count": 9,
      "outputs": []
    },
    {
      "cell_type": "markdown",
      "source": [
        "####Функція втрат"
      ],
      "metadata": {
        "id": "SeMYSfvdp8w2"
      }
    },
    {
      "cell_type": "code",
      "source": [
        "def compute_loss(Y, A2):\n",
        "    m = Y.shape[0]\n",
        "    loss = -np.sum(Y * np.log(A2 + 1e-8)) / m  # Додаємо 1e-8, щоб уникнути log(0)\n",
        "    return loss\n"
      ],
      "metadata": {
        "id": "iKsxdY35dhTe"
      },
      "execution_count": 10,
      "outputs": []
    },
    {
      "cell_type": "markdown",
      "source": [
        "*невеличкі пояснення цього етапу:\n",
        "\n",
        "Ініціалізація параметрів: Ми ініціалізуємо ваги невеликими випадковими значеннями для стабільного навчання.\n",
        "\n",
        "Функції активації:\n",
        "**sigmoid** використовується для прихованого шару.\n",
        "\n",
        "**softmax** для вихідного шару, оскільки це задача багатокласової класифікації.\n",
        "\n",
        "Зворотний прохід: Використовуємо градієнти, щоб оновлювати параметри (W, b).\n",
        "\n",
        "Функція втрат: Крос-ентропія оцінює, наскільки добре модель передбачає ймовірності класів."
      ],
      "metadata": {
        "id": "e0xYIYscqF_0"
      }
    },
    {
      "cell_type": "markdown",
      "source": [
        "###Крок 3: Тренування моделі"
      ],
      "metadata": {
        "id": "HlnTR_WCdh2f"
      }
    },
    {
      "cell_type": "markdown",
      "source": [
        "Тепер давайте ітеративно обчислимо прямий прохід, втрати, виконаємо зворотний прохід і оновлемо параметри. Також зробимо візуалізацію функції втрат:"
      ],
      "metadata": {
        "id": "1DIcCbG4qbBi"
      }
    },
    {
      "cell_type": "code",
      "source": [
        "import matplotlib.pyplot as plt"
      ],
      "metadata": {
        "id": "FdbJ00THqvpV"
      },
      "execution_count": 11,
      "outputs": []
    },
    {
      "cell_type": "markdown",
      "source": [
        "####Тренування моделі"
      ],
      "metadata": {
        "id": "b-dOslSOqxfR"
      }
    },
    {
      "cell_type": "code",
      "source": [
        "def train_model(X_train, Y_train, n_input, n_hidden, n_output, learning_rate=0.01, num_iterations=1000):\n",
        "    # Ініціалізуємо параметри\n",
        "    W1, b1, W2, b2 = initialize_parameters(n_input, n_hidden, n_output)\n",
        "\n",
        "    # Для збереження значень функції втрат\n",
        "    loss_history = []\n",
        "\n",
        "    for i in range(num_iterations):\n",
        "        # Прямий прохід\n",
        "        Z1, A1, Z2, A2 = forward_pass(X_train, W1, b1, W2, b2)\n",
        "\n",
        "        # Обчислення втрат\n",
        "        loss = compute_loss(Y_train, A2)\n",
        "        loss_history.append(loss)\n",
        "\n",
        "        # Зворотний прохід\n",
        "        W1, b1, W2, b2 = backward_pass(X_train, Y_train, Z1, A1, Z2, A2, W1, b1, W2, b2, learning_rate)\n",
        "\n",
        "        # Виведення прогресу кожні 100 ітерацій\n",
        "        if i % 100 == 0:\n",
        "            print(f\"Ітерація {i}: Втрати = {loss:.4f}\")\n",
        "\n",
        "    return W1, b1, W2, b2, loss_history"
      ],
      "metadata": {
        "id": "xt9oXcJ4q16V"
      },
      "execution_count": 12,
      "outputs": []
    },
    {
      "cell_type": "markdown",
      "source": [
        "####Візуалізація функції втрат"
      ],
      "metadata": {
        "id": "nmyWzir5q4PQ"
      }
    },
    {
      "cell_type": "code",
      "source": [
        "def plot_loss(loss_history):\n",
        "    plt.plot(loss_history)\n",
        "    plt.xlabel(\"Ітерації\")\n",
        "    plt.ylabel(\"Втрати\")\n",
        "    plt.title(\"Процес навчання (Зміна функції втрат)\")\n",
        "    plt.grid(True)\n",
        "    plt.show()\n",
        "\n",
        "# Параметри моделі\n",
        "n_input = X_train.shape[1]  # Кількість вхідних ознак\n",
        "n_hidden = 10               # Кількість нейронів у прихованому шарі (можна експериментувати)\n",
        "n_output = y_train_one_hot.shape[1]  # Кількість класів (3 для Wine Dataset)\n",
        "\n",
        "# Навчання моделі\n",
        "learning_rate = 0.01\n",
        "num_iterations = 1000\n",
        "\n",
        "W1, b1, W2, b2, loss_history = train_model(X_train, y_train_one_hot, n_input, n_hidden, n_output, learning_rate, num_iterations)\n",
        "\n",
        "# Візуалізація\n",
        "plot_loss(loss_history)\n"
      ],
      "metadata": {
        "colab": {
          "base_uri": "https://localhost:8080/",
          "height": 646
        },
        "id": "_SohdlzKdigJ",
        "outputId": "d7789584-e886-4746-d9f2-3ba11b5a4de5"
      },
      "execution_count": 13,
      "outputs": [
        {
          "output_type": "stream",
          "name": "stdout",
          "text": [
            "Ітерація 0: Втрати = 1.1013\n",
            "Ітерація 100: Втрати = 1.0882\n",
            "Ітерація 200: Втрати = 1.0863\n",
            "Ітерація 300: Втрати = 1.0851\n",
            "Ітерація 400: Втрати = 1.0837\n",
            "Ітерація 500: Втрати = 1.0816\n",
            "Ітерація 600: Втрати = 1.0787\n",
            "Ітерація 700: Втрати = 1.0743\n",
            "Ітерація 800: Втрати = 1.0677\n",
            "Ітерація 900: Втрати = 1.0580\n"
          ]
        },
        {
          "output_type": "display_data",
          "data": {
            "text/plain": [
              "<Figure size 640x480 with 1 Axes>"
            ],
            "image/png": "[encoded data removed]"
          },
          "metadata": {}
        }
      ]
    },
    {
      "cell_type": "markdown",
      "source": [
        "Навчання:\n",
        "\n",
        "У кожній ітерації:\n",
        "Прямий прохід для обчислення ймовірностей класів.\n",
        "Функція втрат (крос-ентропія) показує, наскільки модель \"помиляється\".\n",
        "Зворотний прохід оновлює ваги та зміщення за допомогою градієнтного спуску.\n",
        "Ми виводимо втрати кожні 100 ітерацій, щоб бачити прогрес.\n",
        "Візуалізація:\n",
        "\n",
        "Графік показує, як модель \"навчається\" з часом.\n",
        "Очікуємо зниження втрат з кожною ітерацією."
      ],
      "metadata": {
        "id": "GD3LFELtrKKX"
      }
    },
    {
      "cell_type": "markdown",
      "source": [
        "###Крок 4: Тестування моделі та обчислення метрик"
      ],
      "metadata": {
        "id": "FXXujleLd1F9"
      }
    },
    {
      "cell_type": "markdown",
      "source": [
        "Ми перевіримо, як добре навчена модель працює на тестових даних, і розрахуємо метрики якості: точність (accuracy), precision, recall та F1-score. Потім порівняємо ці результати з готовим рішенням (MLPClassifier зі Scikit-learn).\n",
        "\n"
      ],
      "metadata": {
        "id": "Rq9yIPKgrPfj"
      }
    },
    {
      "cell_type": "code",
      "source": [
        "# 1. Передбачення для тестових даних\n",
        "def predict(X, W1, b1, W2, b2):\n",
        "    _, _, _, A2 = forward_pass(X, W1, b1, W2, b2)\n",
        "    return np.argmax(A2, axis=1)  # Повертаємо клас з найбільшою ймовірністю\n",
        "\n",
        "# Передбачення\n",
        "y_pred = predict(X_test, W1, b1, W2, b2)\n",
        "\n",
        "# 2. Оцінка якості моделі\n",
        "print(\"Результати власної нейронної мережі:\")\n",
        "print(classification_report(y_test, y_pred))\n",
        "print(f\"Точність (Accuracy): {accuracy_score(y_test, y_pred):.4f}\")\n",
        "\n",
        "# 3. Порівняння з MLPClassifier зі Scikit-learn\n",
        "from sklearn.neural_network import MLPClassifier\n",
        "\n",
        "# Створюємо модель MLPClassifier\n",
        "mlp = MLPClassifier(hidden_layer_sizes=(10,), max_iter=1000, random_state=42, solver='sgd', learning_rate_init=learning_rate)\n",
        "mlp.fit(X_train, y_train)\n",
        "\n",
        "# Передбачення Scikit-learn моделі\n",
        "y_pred_sklearn = mlp.predict(X_test)\n",
        "\n",
        "print(\"\\nРезультати Scikit-learn MLPClassifier:\")\n",
        "print(classification_report(y_test, y_pred_sklearn))\n",
        "print(f\"Точність (Accuracy): {accuracy_score(y_test, y_pred_sklearn):.4f}\")\n"
      ],
      "metadata": {
        "colab": {
          "base_uri": "https://localhost:8080/"
        },
        "id": "GiyUdvU1d2Kk",
        "outputId": "55531c50-828a-4fe3-c64f-d8faee1d58cc"
      },
      "execution_count": 14,
      "outputs": [
        {
          "output_type": "stream",
          "name": "stdout",
          "text": [
            "Результати власної нейронної мережі:\n",
            "              precision    recall  f1-score   support\n",
            "\n",
            "           0       0.00      0.00      0.00        14\n",
            "           1       0.39      1.00      0.56        14\n",
            "           2       0.00      0.00      0.00         8\n",
            "\n",
            "    accuracy                           0.39        36\n",
            "   macro avg       0.13      0.33      0.19        36\n",
            "weighted avg       0.15      0.39      0.22        36\n",
            "\n",
            "Точність (Accuracy): 0.3889\n"
          ]
        },
        {
          "output_type": "stream",
          "name": "stderr",
          "text": [
            "/usr/local/lib/python3.10/dist-packages/sklearn/metrics/_classification.py:1531: UndefinedMetricWarning: Precision is ill-defined and being set to 0.0 in labels with no predicted samples. Use `zero_division` parameter to control this behavior.\n",
            "  _warn_prf(average, modifier, f\"{metric.capitalize()} is\", len(result))\n",
            "/usr/local/lib/python3.10/dist-packages/sklearn/metrics/_classification.py:1531: UndefinedMetricWarning: Precision is ill-defined and being set to 0.0 in labels with no predicted samples. Use `zero_division` parameter to control this behavior.\n",
            "  _warn_prf(average, modifier, f\"{metric.capitalize()} is\", len(result))\n",
            "/usr/local/lib/python3.10/dist-packages/sklearn/metrics/_classification.py:1531: UndefinedMetricWarning: Precision is ill-defined and being set to 0.0 in labels with no predicted samples. Use `zero_division` parameter to control this behavior.\n",
            "  _warn_prf(average, modifier, f\"{metric.capitalize()} is\", len(result))\n"
          ]
        },
        {
          "output_type": "stream",
          "name": "stdout",
          "text": [
            "\n",
            "Результати Scikit-learn MLPClassifier:\n",
            "              precision    recall  f1-score   support\n",
            "\n",
            "           0       1.00      1.00      1.00        14\n",
            "           1       1.00      1.00      1.00        14\n",
            "           2       1.00      1.00      1.00         8\n",
            "\n",
            "    accuracy                           1.00        36\n",
            "   macro avg       1.00      1.00      1.00        36\n",
            "weighted avg       1.00      1.00      1.00        36\n",
            "\n",
            "Точність (Accuracy): 1.0000\n"
          ]
        }
      ]
    },
    {
      "cell_type": "markdown",
      "source": [
        "#####Порівняння результатів:\n",
        "Власна нейронна мережа:\n",
        "\n",
        "Точність (accuracy): 38.89%.\n",
        "Метрики precision, recall, f1-score демонструють низькі значення, особливо для класів 0 та 2.\n",
        "Причини низької точності:\n",
        "Нестача налаштувань та функцій оптимізації, які є у готових бібліотечних рішеннях (наприклад, Adam).\n",
        "Одношарова архітектура може бути недостатньо потужною для задачі класифікації Wine Dataset.\n",
        "MLPClassifier:\n",
        "\n",
        "Точність (accuracy): 100%.\n",
        "Модель ідеально класифікувала всі зразки тестового набору завдяки використанню більш складних механізмів (регуляризація, оптимізовані алгоритми, автоматичне налаштування)."
      ],
      "metadata": {
        "id": "JfhsYzlYr1Wb"
      }
    },
    {
      "cell_type": "markdown",
      "source": [
        "###Крок 5: Експерименти"
      ],
      "metadata": {
        "id": "8a1ZFLeufw4m"
      }
    },
    {
      "cell_type": "markdown",
      "source": [
        "Тепер давайте внесемо зміни в архітектуру нейронної мережі, додавши ще один прихований шар та збільшивши кількість нейронів у шарах. Також змінимо параметри навчання: підвищемо/знизимо швидкість навчання (learning_rate) і збільшемо кількість ітерацій (num_iterations). Це дозволе перевірити, як ці зміни впливають на точність моделі та швидкість її навчання."
      ],
      "metadata": {
        "id": "1QRNfZGEsoaU"
      }
    },
    {
      "cell_type": "markdown",
      "source": [
        "####Оновлення ініціалізації параметрів для двох прихованих шарів"
      ],
      "metadata": {
        "id": "DkU-8aKUED7h"
      }
    },
    {
      "cell_type": "code",
      "source": [
        "def initialize_parameters_v2(n_input, n_hidden1, n_hidden2, n_output):\n",
        "    np.random.seed(42)\n",
        "    W1 = np.random.randn(n_input, n_hidden1) * 0.01\n",
        "    b1 = np.zeros((1, n_hidden1))\n",
        "    W2 = np.random.randn(n_hidden1, n_hidden2) * 0.01\n",
        "    b2 = np.zeros((1, n_hidden2))\n",
        "    W3 = np.random.randn(n_hidden2, n_output) * 0.01\n",
        "    b3 = np.zeros((1, n_output))\n",
        "    return W1, b1, W2, b2, W3, b3"
      ],
      "metadata": {
        "id": "ag6uFu6hESZJ"
      },
      "execution_count": 20,
      "outputs": []
    },
    {
      "cell_type": "markdown",
      "source": [
        "####Оновлення прямого проходу для двох прихованих шарів"
      ],
      "metadata": {
        "id": "mMracEUtEVXB"
      }
    },
    {
      "cell_type": "code",
      "source": [
        "def forward_pass_v2(X, W1, b1, W2, b2, W3, b3):\n",
        "    Z1 = np.dot(X, W1) + b1\n",
        "    A1 = sigmoid(Z1)\n",
        "    Z2 = np.dot(A1, W2) + b2\n",
        "    A2 = sigmoid(Z2)\n",
        "    Z3 = np.dot(A2, W3) + b3\n",
        "    A3 = softmax(Z3)\n",
        "    return Z1, A1, Z2, A2, Z3, A3"
      ],
      "metadata": {
        "id": "_oFUoskTEZHn"
      },
      "execution_count": 21,
      "outputs": []
    },
    {
      "cell_type": "markdown",
      "source": [
        "####Оновлення зворотного проходу для двох прихованих шарів"
      ],
      "metadata": {
        "id": "sO1HtcFeEbpW"
      }
    },
    {
      "cell_type": "code",
      "source": [
        "def backward_pass_v2(X, Y, Z1, A1, Z2, A2, Z3, A3, W1, b1, W2, b2, W3, b3, learning_rate=0.01):\n",
        "    m = X.shape[0]\n",
        "\n",
        "    # Вихідний шар\n",
        "    dZ3 = A3 - Y\n",
        "    dW3 = np.dot(A2.T, dZ3) / m\n",
        "    db3 = np.sum(dZ3, axis=0, keepdims=True) / m\n",
        "\n",
        "    # Другий прихований шар\n",
        "    dA2 = np.dot(dZ3, W3.T)\n",
        "    dZ2 = dA2 * sigmoid_derivative(A2)\n",
        "    dW2 = np.dot(A1.T, dZ2) / m\n",
        "    db2 = np.sum(dZ2, axis=0, keepdims=True) / m\n",
        "\n",
        "    # Перший прихований шар\n",
        "    dA1 = np.dot(dZ2, W2.T)\n",
        "    dZ1 = dA1 * sigmoid_derivative(A1)\n",
        "    dW1 = np.dot(X.T, dZ1) / m\n",
        "    db1 = np.sum(dZ1, axis=0, keepdims=True) / m\n",
        "\n",
        "    # Оновлення параметрів\n",
        "    W3 -= learning_rate * dW3\n",
        "    b3 -= learning_rate * db3\n",
        "    W2 -= learning_rate * dW2\n",
        "    b2 -= learning_rate * db2\n",
        "    W1 -= learning_rate * dW1\n",
        "    b1 -= learning_rate * db1\n",
        "\n",
        "    return W1, b1, W2, b2, W3, b3\n",
        "\n",
        "\n"
      ],
      "metadata": {
        "id": "pFY-RSDyfx9l"
      },
      "execution_count": 22,
      "outputs": []
    },
    {
      "cell_type": "markdown",
      "source": [
        "####Оновлене навчання моделі"
      ],
      "metadata": {
        "id": "Z_tM7xedElRE"
      }
    },
    {
      "cell_type": "code",
      "source": [
        "def train_model_v2(X_train, Y_train, n_input, n_hidden1, n_hidden2, n_output, learning_rate=0.01, num_iterations=1000):\n",
        "    W1, b1, W2, b2, W3, b3 = initialize_parameters_v2(n_input, n_hidden1, n_hidden2, n_output)\n",
        "    loss_history = []\n",
        "\n",
        "    for i in range(num_iterations):\n",
        "        Z1, A1, Z2, A2, Z3, A3 = forward_pass_v2(X_train, W1, b1, W2, b2, W3, b3)\n",
        "        loss = compute_loss(Y_train, A3)\n",
        "        loss_history.append(loss)\n",
        "        W1, b1, W2, b2, W3, b3 = backward_pass_v2(X_train, Y_train, Z1, A1, Z2, A2, Z3, A3, W1, b1, W2, b2, W3, b3, learning_rate)\n",
        "        if i % 100 == 0:\n",
        "            print(f\"Ітерація {i}: Втрати = {loss:.4f}\")\n",
        "\n",
        "    return W1, b1, W2, b2, W3, b3, loss_history\n"
      ],
      "metadata": {
        "id": "2RAF76ikEpvi"
      },
      "execution_count": 23,
      "outputs": []
    },
    {
      "cell_type": "markdown",
      "source": [
        "###Навчання моделі"
      ],
      "metadata": {
        "id": "Du3bPjALf0Xg"
      }
    },
    {
      "cell_type": "code",
      "source": [
        "# Параметри моделі\n",
        "n_hidden1 = 20  # Кількість нейронів у першому прихованому шарі\n",
        "n_hidden2 = 10  # Кількість нейронів у другому прихованому шарі\n",
        "\n",
        "# Навчання моделі\n",
        "W1, b1, W2, b2, W3, b3, loss_history_v2 = train_model_v2(\n",
        "    X_train, y_train_one_hot, n_input, n_hidden1, n_hidden2, n_output,\n",
        "    learning_rate=0.01, num_iterations=2000\n",
        ")\n",
        "\n",
        "# Візуалізація функції втрат\n",
        "plot_loss(loss_history_v2)\n",
        "\n",
        "# Передбачення\n",
        "y_pred_v2 = predict(X_test, W1, b1, W2, b2)\n",
        "\n",
        "# Оцінка якості\n",
        "print(\"Результати моделі з двома прихованими шарами:\")\n",
        "print(classification_report(y_test, y_pred_v2))\n",
        "print(f\"Точність (Accuracy): {accuracy_score(y_test, y_pred_v2):.4f}\")\n"
      ],
      "metadata": {
        "colab": {
          "base_uri": "https://localhost:8080/",
          "height": 1000
        },
        "id": "chrS_xpdf1IT",
        "outputId": "96bedcc7-16d4-4a4a-ae79-7750adb3ae3f"
      },
      "execution_count": 24,
      "outputs": [
        {
          "output_type": "stream",
          "name": "stdout",
          "text": [
            "Ітерація 0: Втрати = 1.0976\n",
            "Ітерація 100: Втрати = 1.0884\n",
            "Ітерація 200: Втрати = 1.0875\n",
            "Ітерація 300: Втрати = 1.0875\n",
            "Ітерація 400: Втрати = 1.0875\n",
            "Ітерація 500: Втрати = 1.0875\n",
            "Ітерація 600: Втрати = 1.0875\n",
            "Ітерація 700: Втрати = 1.0875\n",
            "Ітерація 800: Втрати = 1.0875\n",
            "Ітерація 900: Втрати = 1.0875\n",
            "Ітерація 1000: Втрати = 1.0875\n",
            "Ітерація 1100: Втрати = 1.0875\n",
            "Ітерація 1200: Втрати = 1.0875\n",
            "Ітерація 1300: Втрати = 1.0875\n",
            "Ітерація 1400: Втрати = 1.0875\n",
            "Ітерація 1500: Втрати = 1.0875\n",
            "Ітерація 1600: Втрати = 1.0875\n",
            "Ітерація 1700: Втрати = 1.0875\n",
            "Ітерація 1800: Втрати = 1.0875\n",
            "Ітерація 1900: Втрати = 1.0875\n"
          ]
        },
        {
          "output_type": "display_data",
          "data": {
            "text/plain": [
              "<Figure size 640x480 with 1 Axes>"
            ],
            "image/png": "[encoded data removed]"
          },
          "metadata": {}
        },
        {
          "output_type": "stream",
          "name": "stdout",
          "text": [
            "Результати моделі з двома прихованими шарами:\n",
            "              precision    recall  f1-score   support\n",
            "\n",
            "           0       0.00      0.00      0.00      14.0\n",
            "           1       0.00      0.00      0.00      14.0\n",
            "           2       0.00      0.00      0.00       8.0\n",
            "           3       0.00      0.00      0.00       0.0\n",
            "\n",
            "    accuracy                           0.00      36.0\n",
            "   macro avg       0.00      0.00      0.00      36.0\n",
            "weighted avg       0.00      0.00      0.00      36.0\n",
            "\n",
            "Точність (Accuracy): 0.0000\n"
          ]
        },
        {
          "output_type": "stream",
          "name": "stderr",
          "text": [
            "/usr/local/lib/python3.10/dist-packages/sklearn/metrics/_classification.py:1531: UndefinedMetricWarning: Precision is ill-defined and being set to 0.0 in labels with no predicted samples. Use `zero_division` parameter to control this behavior.\n",
            "  _warn_prf(average, modifier, f\"{metric.capitalize()} is\", len(result))\n",
            "/usr/local/lib/python3.10/dist-packages/sklearn/metrics/_classification.py:1531: UndefinedMetricWarning: Recall is ill-defined and being set to 0.0 in labels with no true samples. Use `zero_division` parameter to control this behavior.\n",
            "  _warn_prf(average, modifier, f\"{metric.capitalize()} is\", len(result))\n",
            "/usr/local/lib/python3.10/dist-packages/sklearn/metrics/_classification.py:1531: UndefinedMetricWarning: Precision is ill-defined and being set to 0.0 in labels with no predicted samples. Use `zero_division` parameter to control this behavior.\n",
            "  _warn_prf(average, modifier, f\"{metric.capitalize()} is\", len(result))\n",
            "/usr/local/lib/python3.10/dist-packages/sklearn/metrics/_classification.py:1531: UndefinedMetricWarning: Recall is ill-defined and being set to 0.0 in labels with no true samples. Use `zero_division` parameter to control this behavior.\n",
            "  _warn_prf(average, modifier, f\"{metric.capitalize()} is\", len(result))\n",
            "/usr/local/lib/python3.10/dist-packages/sklearn/metrics/_classification.py:1531: UndefinedMetricWarning: Precision is ill-defined and being set to 0.0 in labels with no predicted samples. Use `zero_division` parameter to control this behavior.\n",
            "  _warn_prf(average, modifier, f\"{metric.capitalize()} is\", len(result))\n",
            "/usr/local/lib/python3.10/dist-packages/sklearn/metrics/_classification.py:1531: UndefinedMetricWarning: Recall is ill-defined and being set to 0.0 in labels with no true samples. Use `zero_division` parameter to control this behavior.\n",
            "  _warn_prf(average, modifier, f\"{metric.capitalize()} is\", len(result))\n"
          ]
        }
      ]
    },
    {
      "cell_type": "markdown",
      "source": [
        "###Висновок"
      ],
      "metadata": {
        "id": "8M2BE2gWFSWP"
      }
    },
    {
      "cell_type": "markdown",
      "source": [
        "Хоча ми спробували змінити архітектуру моделі, результати експерименту показали, що запропоновані зміни не призвели до покращення. Навпаки, модель \"застрягла\" і не навчилася класифікувати дані. Це важливий урок про необхідність ретельного вибору параметрів навчання та архітектури моделі. У наступних експериментах варто врахувати рекомендації для покращення."
      ],
      "metadata": {
        "id": "d0GPGkGWFWiD"
      }
    },
    {
      "cell_type": "markdown",
      "source": [
        "#додатково_аналіз_помилок"
      ],
      "metadata": {
        "id": "btJ49kLihSlQ"
      }
    },
    {
      "cell_type": "markdown",
      "source": [
        "Давайте знайдемо зразки, які модель класифікує неправильно, і подивимося, чи є закономірності в цих помилках."
      ],
      "metadata": {
        "id": "y_AmT7LcGGBW"
      }
    },
    {
      "cell_type": "code",
      "source": [
        "# 1. Знайдемо зразки, які були класифіковані неправильно\n",
        "incorrect_indices = np.where(y_pred_v2 != y_test)[0]\n",
        "\n",
        "print(f\"Кількість неправильно класифікованих зразків: {len(incorrect_indices)}\")\n",
        "print(\"\\nПриклади неправильно класифікованих зразків:\")\n",
        "for idx in incorrect_indices[:5]:  # Виведемо лише перші 5 для зручності\n",
        "    print(f\"Зразок #{idx}:\")\n",
        "    print(f\"   Реальний клас: {y_test[idx]}\")\n",
        "    print(f\"   Передбачений клас: {y_pred_v2[idx]}\")\n",
        "    print(f\"   Вхідні дані (масштабовані): {X_test[idx]}\")\n"
      ],
      "metadata": {
        "colab": {
          "base_uri": "https://localhost:8080/"
        },
        "id": "aZrIotNshVVS",
        "outputId": "cc5983e8-a555-4369-9b20-883b0a31e25b"
      },
      "execution_count": 17,
      "outputs": [
        {
          "output_type": "stream",
          "name": "stdout",
          "text": [
            "Кількість неправильно класифікованих зразків: 36\n",
            "\n",
            "Приклади неправильно класифікованих зразків:\n",
            "Зразок #0:\n",
            "   Реальний клас: 0\n",
            "   Передбачений клас: 3\n",
            "   Вхідні дані (масштабовані): [ 0.78980621  0.68550197  0.70724686 -1.28970717  1.14155847  0.64876424\n",
            "  1.00469996 -1.54592178  0.12107098  0.01812906  0.01119018  1.05695159\n",
            "  0.3124203 ]\n",
            "Зразок #1:\n",
            "   Реальний клас: 0\n",
            "   Передбачений клас: 3\n",
            "   Вхідні дані (масштабовані): [ 1.49390724  1.52930533  0.26860595 -0.1786527   0.79049177  0.88911397\n",
            "  0.6231926  -0.49840699 -0.59728351  0.07868886 -0.38367031  1.01457831\n",
            "  1.06077633]\n",
            "Зразок #2:\n",
            "   Реальний клас: 2\n",
            "   Передбачений клас: 3\n",
            "   Вхідні дані (масштабовані): [-0.08723191  0.42517966  1.21899459  0.45194578 -0.26270834 -1.20994036\n",
            " -1.53533585  1.3548884  -1.47332558 -0.19815593 -0.82240418 -0.42611337\n",
            " -0.46778066]\n",
            "Зразок #3:\n",
            "   Реальний клас: 0\n",
            "   Передбачений клас: 3\n",
            "   Вхідні дані (масштабовані): [ 0.90098006 -0.75075906  1.21899459  0.90237327  0.08835836  1.1294637\n",
            "  1.22557264 -0.57898505  1.38257156  0.27767105  1.02027808  0.13886376\n",
            "  1.71359755]\n",
            "Зразок #4:\n",
            "   Реальний клас: 1\n",
            "   Передбачений клас: 3\n",
            "   Вхідні дані (масштабовані): [-0.77898029 -1.0469879  -1.63217132  0.03154679 -1.52654847 -0.29661137\n",
            " -0.02938577 -0.74014117 -0.96522118 -0.16355033  0.71316437  1.22644473\n",
            " -0.7543851 ]\n"
          ]
        }
      ]
    },
    {
      "cell_type": "markdown",
      "source": [
        "Кількість неправильно класифікованих зразків: 36\n",
        "\n",
        "Модель неправильно класифікувала всі 36 зразків у тестовому наборі. Це свідчить про серйозну проблему в навчанні.\n",
        "\n",
        "Модель постійно передбачає один і той самий клас (клас \"3\"), навіть коли реальний клас зовсім інший.\n",
        "\n",
        "Можна зробити висновки:\n",
        "\n",
        "Оскільки модель завжди передбачає один клас (клас \"3\"), це може свідчити про те, що вона \"застрягла\" в певному мінімумі функції втрат і не може ефективно оновлювати свої параметри, щоб розрізняти інші класи.\n",
        "\n",
        "Якщо в навчальному наборі більше зразків одного класу (класу \"3\"), це може призвести до того, що модель навчиться завжди передбачати цей клас, оскільки це мінімізує втрати, але насправді не вирішує задачу класифікації.\n",
        "\n",
        "Також класи в Wine Dataset можуть бути схожими між собою, і модель не в змозі виділити відмінності, оскільки використовує лише прості параметри і не має складної архітектури для більш глибокого навчання.\n",
        "\n"
      ],
      "metadata": {
        "id": "l96-30RrGNVX"
      }
    },
    {
      "cell_type": "code",
      "source": [],
      "metadata": {
        "id": "c2Ez_URsHCzY"
      },
      "execution_count": null,
      "outputs": []
    }
  ]
}