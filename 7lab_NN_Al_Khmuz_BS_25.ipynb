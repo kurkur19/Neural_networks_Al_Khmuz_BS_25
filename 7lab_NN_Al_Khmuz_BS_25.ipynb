{
  "nbformat": 4,
  "nbformat_minor": 0,
  "metadata": {
    "colab": {
      "provenance": [],
      "authorship_tag": "ABX9TyOhMHbN6nu70zmYSrr/zm16",
      "include_colab_link": true
    },
    "kernelspec": {
      "name": "python3",
      "display_name": "Python 3"
    },
    "language_info": {
      "name": "python"
    }
  },
  "cells": [
    {
      "cell_type": "markdown",
      "metadata": {
        "id": "view-in-github",
        "colab_type": "text"
      },
      "source": [
        "<a href=\"https://colab.research.google.com/github/kurkur19/Neural_networks_Al_Khmuz_BS_25/blob/main/7lab_NN_Al_Khmuz_BS_25.ipynb\" target=\"_parent\"><img src=\"https://colab.research.google.com/assets/colab-badge.svg\" alt=\"Open In Colab\"/></a>"
      ]
    },
    {
      "cell_type": "markdown",
      "source": [
        "#ПРАКТИЧНА РОБОТА 7: РОЗРОБКА СІАМСЬКОЇ МЕРЕЖІ (SIAMESE NETWORKS)"
      ],
      "metadata": {
        "id": "NMHbVduELE-l"
      }
    },
    {
      "cell_type": "markdown",
      "source": [
        "##*Мета роботи:*"
      ],
      "metadata": {
        "id": "6gBWwOJbLX-L"
      }
    },
    {
      "cell_type": "markdown",
      "source": [
        "Ознайомитись із принципами роботи сіамських мереж, їх\n",
        "застосуваннями в завданнях порівняння та верифікації об'єктів, а також\n",
        "навчитися практичним навичкам створення та навчання сіамської мережі в Keras."
      ],
      "metadata": {
        "id": "-6muT5WOLccY"
      }
    },
    {
      "cell_type": "markdown",
      "source": [
        "Виконала студентка групи БС-25 Аль Хмуз Карина Бассамівна (1 варіант)"
      ],
      "metadata": {
        "id": "794HrQs-Lf6N"
      }
    },
    {
      "cell_type": "markdown",
      "source": [
        "##*Теоретична частина:*"
      ],
      "metadata": {
        "id": "mhgvRe6ULnLI"
      }
    },
    {
      "cell_type": "markdown",
      "source": [
        "***Сіамська мережа*** – це архітектура нейронних мереж, яка використовується,\n",
        "головним чином, для вирішення задачі порівняння або визначення схожості між\n",
        "двома входами. Вона складається з двох ідентичних підмереж, які розділяють ті ж самі параметри та ваги. Обидві підмережі приймають різні вхідні дані та виводять ознаки, які потім порівнюються."
      ],
      "metadata": {
        "id": "rgAS3Uz7L20T"
      }
    },
    {
      "cell_type": "markdown",
      "source": [
        "**Основна ідея:**\n",
        "\n",
        "- *Схожість:* Основна мета сіамської мережі – визначити, наскільки схожі між\n",
        "собою два вхідні зразка. Замість класичного класифікаційного виводу, який\n",
        "каже, до якого класу належить зразок, сіамська мережа визначає ступінь\n",
        "схожості між двома зразками.\n",
        "\n",
        "- *Спільне навчання:* Обидві підмережі в сіамській архітектурі навчаються\n",
        "одночасно. Якщо покращуються ознаки, що виділяються однією\n",
        "підмережею, це також покращує ознаки, що виділяються іншою.\n",
        "\n",
        "- *Оцінка відстані:* Після того як обидві підмережі вивели свої ознаки для\n",
        "вхідних даних, відстань між цими ознаками визначається за допомогою\n",
        "деякої метрики (наприклад, евклідова відстань).\n",
        "\n",
        "- *Порогове значення:* Якщо обчислена відстань менша за певне порогове\n",
        "значення, зразки вважаються схожими, в іншому випадку – різними.\n",
        "\n",
        "- *Особливості застосування:* Сіамські мережі часто використовуються у\n",
        "задачах, де доступні малі набори даних, таких як верифікація обличчя.\n",
        "Замість навчання на величезних датасетах з тисячами класів, сіамська\n",
        "мережа може навчатися, порівнюючи лише кілька зразків кожного класу, і\n",
        "все одно розпізнавати нові приклади цих класів."
      ],
      "metadata": {
        "id": "gatiQq7XL-CS"
      }
    },
    {
      "cell_type": "markdown",
      "source": [
        "**Особливості архітектури Сіамських мереж.**\n",
        "\n",
        "1. Двійкові підмережі:\n",
        "\n",
        "Сіамська мережа має дві підмережі, які зазвичай є ідентичними та ділять однакові\n",
        "параметри. Ці підмережі використовуються для видобутку ознак з двох окремих\n",
        "вхідних даних.\n",
        "\n",
        "2. Ваги розділяються:\n",
        "\n",
        "Обидві підмережі ділять однакові ваги, що означає, що вони одночасно\n",
        "оновлюються під час процесу навчання.\n",
        "\n",
        "3. Відстань між ознаками:\n",
        "\n",
        "Після того, як ознаки видобуто з обох підмереж, вони порівнюються. Зазвичай\n",
        "використовується евклідова відстань або інші метрики для визначення схожості\n",
        "між двома наборами ознак.\n",
        "\n",
        "4. Контрастна втрата (contrastive loss):\n",
        "\n",
        "Для навчання сіамської мережі зазвичай використовується контрастна втрата. Ця\n",
        "функція втрати вимірює, наскільки близько ознаки схожих об'єктів і наскільки\n",
        "далеко ознаки різних об'єктів.\n",
        "\n",
        "5. Якір, позитивний та негативний приклади:\n",
        "\n",
        "Під час тренування зазвичай використовуються три зразки: \"якір\" (основний\n",
        "зразок), позитивний зразок (той, що схожий на якір) та негативний зразок (той, що відрізняється від якоря). Це стимулює мережу правильно розпізнавати схожі та відмінні об'єкти.\n"
      ],
      "metadata": {
        "id": "gauExHYVMX4T"
      }
    },
    {
      "cell_type": "markdown",
      "source": [
        "##Практична частина"
      ],
      "metadata": {
        "id": "uOpPMpAWMqhg"
      }
    },
    {
      "cell_type": "markdown",
      "source": [
        "###Етап 1: Створення сіамської мережі"
      ],
      "metadata": {
        "id": "WI6odk_uWJMT"
      }
    },
    {
      "cell_type": "markdown",
      "source": [
        "Так як я, Аль Хмуз Карина Бассамівна маю перший варіант, то датасет для мого завдання - **Fashion MNIST**"
      ],
      "metadata": {
        "id": "LoJr9-QxWYCw"
      }
    },
    {
      "cell_type": "markdown",
      "source": [
        "Для початку ми завантажимо датасет Fashion MNIST та зробимо огляд даних, щоб зрозуміти його структуру та типи зображень."
      ],
      "metadata": {
        "id": "xJ-ng-nQW6fz"
      }
    },
    {
      "cell_type": "code",
      "execution_count": 1,
      "metadata": {
        "colab": {
          "base_uri": "https://localhost:8080/",
          "height": 1000
        },
        "id": "hTL-JeY3LAFm",
        "outputId": "d3936b85-e8f9-4827-9a1d-839d84edee06"
      },
      "outputs": [
        {
          "output_type": "stream",
          "name": "stdout",
          "text": [
            "Downloading data from https://storage.googleapis.com/tensorflow/tf-keras-datasets/train-labels-idx1-ubyte.gz\n",
            "\u001b[1m29515/29515\u001b[0m \u001b[32m━━━━━━━━━━━━━━━━━━━━\u001b[0m\u001b[37m\u001b[0m \u001b[1m0s\u001b[0m 0us/step\n",
            "Downloading data from https://storage.googleapis.com/tensorflow/tf-keras-datasets/train-images-idx3-ubyte.gz\n",
            "\u001b[1m26421880/26421880\u001b[0m \u001b[32m━━━━━━━━━━━━━━━━━━━━\u001b[0m\u001b[37m\u001b[0m \u001b[1m0s\u001b[0m 0us/step\n",
            "Downloading data from https://storage.googleapis.com/tensorflow/tf-keras-datasets/t10k-labels-idx1-ubyte.gz\n",
            "\u001b[1m5148/5148\u001b[0m \u001b[32m━━━━━━━━━━━━━━━━━━━━\u001b[0m\u001b[37m\u001b[0m \u001b[1m0s\u001b[0m 1us/step\n",
            "Downloading data from https://storage.googleapis.com/tensorflow/tf-keras-datasets/t10k-images-idx3-ubyte.gz\n",
            "\u001b[1m4422102/4422102\u001b[0m \u001b[32m━━━━━━━━━━━━━━━━━━━━\u001b[0m\u001b[37m\u001b[0m \u001b[1m0s\u001b[0m 0us/step\n",
            "Train data shape: (60000, 28, 28), Train labels shape: (60000,)\n",
            "Test data shape: (10000, 28, 28), Test labels shape: (10000,)\n"
          ]
        },
        {
          "output_type": "display_data",
          "data": {
            "text/plain": [
              "<Figure size 1000x1000 with 25 Axes>"
            ],
            "image/png": "[encoded data removed]"
          },
          "metadata": {}
        }
      ],
      "source": [
        "import numpy as np\n",
        "import matplotlib.pyplot as plt\n",
        "from tensorflow.keras.datasets import fashion_mnist\n",
        "\n",
        "# Завантаження датасету\n",
        "(x_train, y_train), (x_test, y_test) = fashion_mnist.load_data()\n",
        "\n",
        "# Виведення розмірів датасету\n",
        "print(f\"Train data shape: {x_train.shape}, Train labels shape: {y_train.shape}\")\n",
        "print(f\"Test data shape: {x_test.shape}, Test labels shape: {y_test.shape}\")\n",
        "\n",
        "# Візуалізація прикладів із датасету\n",
        "def plot_samples(images, labels, class_names):\n",
        "    plt.figure(figsize=(10, 10))\n",
        "    for i in range(25):\n",
        "        plt.subplot(5, 5, i + 1)\n",
        "        plt.xticks([])\n",
        "        plt.yticks([])\n",
        "        plt.grid(False)\n",
        "        plt.imshow(images[i], cmap=plt.cm.binary)\n",
        "        plt.xlabel(class_names[labels[i]])\n",
        "    plt.show()\n",
        "\n",
        "# Класи в датасеті\n",
        "class_names = ['T-shirt/top', 'Trouser', 'Pullover', 'Dress', 'Coat',\n",
        "               'Sandal', 'Shirt', 'Sneaker', 'Bag', 'Ankle boot']\n",
        "\n",
        "plot_samples(x_train, y_train, class_names)\n"
      ]
    },
    {
      "cell_type": "markdown",
      "source": [
        "Зображення в датасеті Fashion MNIST мають низьку якість через їх розмір — 28x28 пікселів. Це зроблено для збереження компактності даних, прискорення обчислень і зниження вимог до апаратного забезпечення."
      ],
      "metadata": {
        "id": "E6wjmFduXAzo"
      }
    },
    {
      "cell_type": "markdown",
      "source": [
        "*датасет спочатку розроблявся для тестування алгоритмів машинного навчання. Навіть така низька роздільна здатність дозволяє отримати важливі ознаки для класифікації за допомогою нейронних мереж."
      ],
      "metadata": {
        "id": "oLK0WXxQXEvN"
      }
    },
    {
      "cell_type": "markdown",
      "source": [
        "Наступним кроком буде підготовка даних для сіамської мережі. Нам потрібно створити пари зображень для навчання моделі та вказати мітки, які позначають, чи є зображення в парі схожими (з одного класу) чи різними (з різних класів)."
      ],
      "metadata": {
        "id": "6OmnZyM6XLRK"
      }
    },
    {
      "cell_type": "code",
      "source": [
        "def create_pairs(images, labels):\n",
        "    pairs = []\n",
        "    labels_pairs = []\n",
        "    digit_indices = [np.where(labels == i)[0] for i in range(10)]\n",
        "    min_samples = min([len(indices) for indices in digit_indices]) - 1\n",
        "\n",
        "    for digit in range(10):\n",
        "        for i in range(min_samples):\n",
        "            # Позитивна пара (схожі зображення)\n",
        "            z1, z2 = digit_indices[digit][i], digit_indices[digit][i + 1]\n",
        "            pairs += [[images[z1], images[z2]]]\n",
        "            labels_pairs += [1]\n",
        "\n",
        "            # Негативна пара (різні зображення)\n",
        "            inc = np.random.randint(1, 10)\n",
        "            dn = (digit + inc) % 10\n",
        "            z1, z2 = digit_indices[digit][i], digit_indices[dn][i]\n",
        "            pairs += [[images[z1], images[z2]]]\n",
        "            labels_pairs += [0]\n",
        "\n",
        "    return np.array(pairs), np.array(labels_pairs)\n",
        "\n",
        "# Створення пар для тренувального та тестового наборів\n",
        "train_pairs, train_labels = create_pairs(x_train, y_train)\n",
        "test_pairs, test_labels = create_pairs(x_test, y_test)\n",
        "\n",
        "# Перевірка форми даних\n",
        "print(f\"Train pairs shape: {train_pairs.shape}, Train labels shape: {train_labels.shape}\")\n",
        "print(f\"Test pairs shape: {test_pairs.shape}, Test labels shape: {test_labels.shape}\")\n"
      ],
      "metadata": {
        "colab": {
          "base_uri": "https://localhost:8080/"
        },
        "id": "ek30ea8cP3F_",
        "outputId": "96777664-1515-43ad-b779-8d3713e7022d"
      },
      "execution_count": 2,
      "outputs": [
        {
          "output_type": "stream",
          "name": "stdout",
          "text": [
            "Train pairs shape: (119980, 2, 28, 28), Train labels shape: (119980,)\n",
            "Test pairs shape: (19980, 2, 28, 28), Test labels shape: (19980,)\n"
          ]
        }
      ]
    },
    {
      "cell_type": "markdown",
      "source": [
        "Ми успішно створили пари для навчання та тестування.\n",
        "\n",
        "- Train pairs shape: (119980, 2, 28, 28): Маємо 119,980 пар зображень у тренувальному наборі. Кожна пара складається з двох зображень розміром 28x28 пікселів.\n",
        "\n",
        "- Train labels shape: (119980,): Для кожної пари є відповідна мітка (1 — схожі, 0 — різні).\n",
        "\n",
        "- Test pairs shape: (19980, 2, 28, 28): Тестовий набір містить 19,980 пар зображень.\n",
        "\n",
        "- Test labels shape: (19980,): Відповідні мітки для тестових пар.\n"
      ],
      "metadata": {
        "id": "fdKgtE2XXSM7"
      }
    },
    {
      "cell_type": "markdown",
      "source": [
        "Тепер ми побудуємо базову підмережу для нашої сіамської мережі. Це підмережа, яка буде використовуватись для витягування ознак із кожного зображення в парі."
      ],
      "metadata": {
        "id": "EZsY6sK1Xejo"
      }
    },
    {
      "cell_type": "code",
      "source": [
        "from tensorflow.keras.models import Model\n",
        "from tensorflow.keras.layers import Input, Flatten, Dense, Dropout"
      ],
      "metadata": {
        "id": "d4n67OADQKcv"
      },
      "execution_count": 3,
      "outputs": []
    },
    {
      "cell_type": "code",
      "source": [
        "def create_base_network(input_shape):\n",
        "    input_layer = Input(shape=input_shape)\n",
        "    x = Flatten()(input_layer)\n",
        "    x = Dense(128, activation='relu')(x)\n",
        "    x = Dropout(0.1)(x)\n",
        "    x = Dense(128, activation='relu')(x)\n",
        "    x = Dropout(0.1)(x)\n",
        "    x = Dense(128, activation='relu')(x)\n",
        "    return Model(input_layer, x)\n",
        "\n",
        "# Ініціалізація базової підмережі\n",
        "input_shape = (28, 28)\n",
        "base_network = create_base_network(input_shape)\n",
        "\n",
        "# Перевірка структури базової підмережі\n",
        "base_network.summary()\n"
      ],
      "metadata": {
        "colab": {
          "base_uri": "https://localhost:8080/",
          "height": 349
        },
        "id": "mrioNktaP3na",
        "outputId": "b06b0c53-acbb-4c71-aa21-46e86efdee22"
      },
      "execution_count": 4,
      "outputs": [
        {
          "output_type": "display_data",
          "data": {
            "text/plain": [
              "\u001b[1mModel: \"functional\"\u001b[0m\n"
            ],
            "text/html": [
              "<pre style=\"white-space:pre;overflow-x:auto;line-height:normal;font-family:Menlo,'DejaVu Sans Mono',consolas,'Courier New',monospace\"><span style=\"font-weight: bold\">Model: \"functional\"</span>\n",
              "</pre>\n"
            ]
          },
          "metadata": {}
        },
        {
          "output_type": "display_data",
          "data": {
            "text/plain": [
              "┏━━━━━━━━━━━━━━━━━━━━━━━━━━━━━━━━━━━━━━┳━━━━━━━━━━━━━━━━━━━━━━━━━━━━━┳━━━━━━━━━━━━━━━━━┓\n",
              "┃\u001b[1m \u001b[0m\u001b[1mLayer (type)                        \u001b[0m\u001b[1m \u001b[0m┃\u001b[1m \u001b[0m\u001b[1mOutput Shape               \u001b[0m\u001b[1m \u001b[0m┃\u001b[1m \u001b[0m\u001b[1m        Param #\u001b[0m\u001b[1m \u001b[0m┃\n",
              "┡━━━━━━━━━━━━━━━━━━━━━━━━━━━━━━━━━━━━━━╇━━━━━━━━━━━━━━━━━━━━━━━━━━━━━╇━━━━━━━━━━━━━━━━━┩\n",
              "│ input_layer (\u001b[38;5;33mInputLayer\u001b[0m)             │ (\u001b[38;5;45mNone\u001b[0m, \u001b[38;5;34m28\u001b[0m, \u001b[38;5;34m28\u001b[0m)              │               \u001b[38;5;34m0\u001b[0m │\n",
              "├──────────────────────────────────────┼─────────────────────────────┼─────────────────┤\n",
              "│ flatten (\u001b[38;5;33mFlatten\u001b[0m)                    │ (\u001b[38;5;45mNone\u001b[0m, \u001b[38;5;34m784\u001b[0m)                 │               \u001b[38;5;34m0\u001b[0m │\n",
              "├──────────────────────────────────────┼─────────────────────────────┼─────────────────┤\n",
              "│ dense (\u001b[38;5;33mDense\u001b[0m)                        │ (\u001b[38;5;45mNone\u001b[0m, \u001b[38;5;34m128\u001b[0m)                 │         \u001b[38;5;34m100,480\u001b[0m │\n",
              "├──────────────────────────────────────┼─────────────────────────────┼─────────────────┤\n",
              "│ dropout (\u001b[38;5;33mDropout\u001b[0m)                    │ (\u001b[38;5;45mNone\u001b[0m, \u001b[38;5;34m128\u001b[0m)                 │               \u001b[38;5;34m0\u001b[0m │\n",
              "├──────────────────────────────────────┼─────────────────────────────┼─────────────────┤\n",
              "│ dense_1 (\u001b[38;5;33mDense\u001b[0m)                      │ (\u001b[38;5;45mNone\u001b[0m, \u001b[38;5;34m128\u001b[0m)                 │          \u001b[38;5;34m16,512\u001b[0m │\n",
              "├──────────────────────────────────────┼─────────────────────────────┼─────────────────┤\n",
              "│ dropout_1 (\u001b[38;5;33mDropout\u001b[0m)                  │ (\u001b[38;5;45mNone\u001b[0m, \u001b[38;5;34m128\u001b[0m)                 │               \u001b[38;5;34m0\u001b[0m │\n",
              "├──────────────────────────────────────┼─────────────────────────────┼─────────────────┤\n",
              "│ dense_2 (\u001b[38;5;33mDense\u001b[0m)                      │ (\u001b[38;5;45mNone\u001b[0m, \u001b[38;5;34m128\u001b[0m)                 │          \u001b[38;5;34m16,512\u001b[0m │\n",
              "└──────────────────────────────────────┴─────────────────────────────┴─────────────────┘\n"
            ],
            "text/html": [
              "<pre style=\"white-space:pre;overflow-x:auto;line-height:normal;font-family:Menlo,'DejaVu Sans Mono',consolas,'Courier New',monospace\">┏━━━━━━━━━━━━━━━━━━━━━━━━━━━━━━━━━━━━━━┳━━━━━━━━━━━━━━━━━━━━━━━━━━━━━┳━━━━━━━━━━━━━━━━━┓\n",
              "┃<span style=\"font-weight: bold\"> Layer (type)                         </span>┃<span style=\"font-weight: bold\"> Output Shape                </span>┃<span style=\"font-weight: bold\">         Param # </span>┃\n",
              "┡━━━━━━━━━━━━━━━━━━━━━━━━━━━━━━━━━━━━━━╇━━━━━━━━━━━━━━━━━━━━━━━━━━━━━╇━━━━━━━━━━━━━━━━━┩\n",
              "│ input_layer (<span style=\"color: #0087ff; text-decoration-color: #0087ff\">InputLayer</span>)             │ (<span style=\"color: #00d7ff; text-decoration-color: #00d7ff\">None</span>, <span style=\"color: #00af00; text-decoration-color: #00af00\">28</span>, <span style=\"color: #00af00; text-decoration-color: #00af00\">28</span>)              │               <span style=\"color: #00af00; text-decoration-color: #00af00\">0</span> │\n",
              "├──────────────────────────────────────┼─────────────────────────────┼─────────────────┤\n",
              "│ flatten (<span style=\"color: #0087ff; text-decoration-color: #0087ff\">Flatten</span>)                    │ (<span style=\"color: #00d7ff; text-decoration-color: #00d7ff\">None</span>, <span style=\"color: #00af00; text-decoration-color: #00af00\">784</span>)                 │               <span style=\"color: #00af00; text-decoration-color: #00af00\">0</span> │\n",
              "├──────────────────────────────────────┼─────────────────────────────┼─────────────────┤\n",
              "│ dense (<span style=\"color: #0087ff; text-decoration-color: #0087ff\">Dense</span>)                        │ (<span style=\"color: #00d7ff; text-decoration-color: #00d7ff\">None</span>, <span style=\"color: #00af00; text-decoration-color: #00af00\">128</span>)                 │         <span style=\"color: #00af00; text-decoration-color: #00af00\">100,480</span> │\n",
              "├──────────────────────────────────────┼─────────────────────────────┼─────────────────┤\n",
              "│ dropout (<span style=\"color: #0087ff; text-decoration-color: #0087ff\">Dropout</span>)                    │ (<span style=\"color: #00d7ff; text-decoration-color: #00d7ff\">None</span>, <span style=\"color: #00af00; text-decoration-color: #00af00\">128</span>)                 │               <span style=\"color: #00af00; text-decoration-color: #00af00\">0</span> │\n",
              "├──────────────────────────────────────┼─────────────────────────────┼─────────────────┤\n",
              "│ dense_1 (<span style=\"color: #0087ff; text-decoration-color: #0087ff\">Dense</span>)                      │ (<span style=\"color: #00d7ff; text-decoration-color: #00d7ff\">None</span>, <span style=\"color: #00af00; text-decoration-color: #00af00\">128</span>)                 │          <span style=\"color: #00af00; text-decoration-color: #00af00\">16,512</span> │\n",
              "├──────────────────────────────────────┼─────────────────────────────┼─────────────────┤\n",
              "│ dropout_1 (<span style=\"color: #0087ff; text-decoration-color: #0087ff\">Dropout</span>)                  │ (<span style=\"color: #00d7ff; text-decoration-color: #00d7ff\">None</span>, <span style=\"color: #00af00; text-decoration-color: #00af00\">128</span>)                 │               <span style=\"color: #00af00; text-decoration-color: #00af00\">0</span> │\n",
              "├──────────────────────────────────────┼─────────────────────────────┼─────────────────┤\n",
              "│ dense_2 (<span style=\"color: #0087ff; text-decoration-color: #0087ff\">Dense</span>)                      │ (<span style=\"color: #00d7ff; text-decoration-color: #00d7ff\">None</span>, <span style=\"color: #00af00; text-decoration-color: #00af00\">128</span>)                 │          <span style=\"color: #00af00; text-decoration-color: #00af00\">16,512</span> │\n",
              "└──────────────────────────────────────┴─────────────────────────────┴─────────────────┘\n",
              "</pre>\n"
            ]
          },
          "metadata": {}
        },
        {
          "output_type": "display_data",
          "data": {
            "text/plain": [
              "\u001b[1m Total params: \u001b[0m\u001b[38;5;34m133,504\u001b[0m (521.50 KB)\n"
            ],
            "text/html": [
              "<pre style=\"white-space:pre;overflow-x:auto;line-height:normal;font-family:Menlo,'DejaVu Sans Mono',consolas,'Courier New',monospace\"><span style=\"font-weight: bold\"> Total params: </span><span style=\"color: #00af00; text-decoration-color: #00af00\">133,504</span> (521.50 KB)\n",
              "</pre>\n"
            ]
          },
          "metadata": {}
        },
        {
          "output_type": "display_data",
          "data": {
            "text/plain": [
              "\u001b[1m Trainable params: \u001b[0m\u001b[38;5;34m133,504\u001b[0m (521.50 KB)\n"
            ],
            "text/html": [
              "<pre style=\"white-space:pre;overflow-x:auto;line-height:normal;font-family:Menlo,'DejaVu Sans Mono',consolas,'Courier New',monospace\"><span style=\"font-weight: bold\"> Trainable params: </span><span style=\"color: #00af00; text-decoration-color: #00af00\">133,504</span> (521.50 KB)\n",
              "</pre>\n"
            ]
          },
          "metadata": {}
        },
        {
          "output_type": "display_data",
          "data": {
            "text/plain": [
              "\u001b[1m Non-trainable params: \u001b[0m\u001b[38;5;34m0\u001b[0m (0.00 B)\n"
            ],
            "text/html": [
              "<pre style=\"white-space:pre;overflow-x:auto;line-height:normal;font-family:Menlo,'DejaVu Sans Mono',consolas,'Courier New',monospace\"><span style=\"font-weight: bold\"> Non-trainable params: </span><span style=\"color: #00af00; text-decoration-color: #00af00\">0</span> (0.00 B)\n",
              "</pre>\n"
            ]
          },
          "metadata": {}
        }
      ]
    },
    {
      "cell_type": "markdown",
      "source": [
        "Чудово, наша базова підмережа готова! Це означає, що ми можемо використовувати її для витягування ознак із зображень у нашій сіамській мережі."
      ],
      "metadata": {
        "id": "e1T16iYzXnPP"
      }
    },
    {
      "cell_type": "markdown",
      "source": [
        "Тепер ми створимо повну сіамську мережу, яка прийматиме пари зображень і порівнюватиме їх за допомогою евклідової відстані."
      ],
      "metadata": {
        "id": "YHvxeDKyYQIh"
      }
    },
    {
      "cell_type": "code",
      "source": [
        "from tensorflow.keras.layers import Lambda\n",
        "from tensorflow.keras import backend as K"
      ],
      "metadata": {
        "id": "o_ranMEnQdzX"
      },
      "execution_count": 5,
      "outputs": []
    },
    {
      "cell_type": "code",
      "source": [
        "# Функція для обчислення евклідової відстані\n",
        "def euclidean_distance(vects):\n",
        "    x, y = vects\n",
        "    sum_square = K.sum(K.square(x - y), axis=1, keepdims=True)\n",
        "    return K.sqrt(K.maximum(sum_square, K.epsilon()))\n",
        "\n",
        "# Вхідні шари для пар зображень\n",
        "input_a = Input(shape=(28, 28))\n",
        "input_b = Input(shape=(28, 28))\n",
        "\n",
        "# Пропускання обох входів через базову підмережу\n",
        "processed_a = base_network(input_a)\n",
        "processed_b = base_network(input_b)\n",
        "\n",
        "# Обчислення відстані між ознаками\n",
        "distance = Lambda(euclidean_distance)([processed_a, processed_b])\n",
        "\n",
        "# Побудова моделі\n",
        "from tensorflow.keras.models import Model\n",
        "model = Model(inputs=[input_a, input_b], outputs=distance)\n",
        "\n",
        "# Огляд архітектури моделі\n",
        "model.summary()\n"
      ],
      "metadata": {
        "colab": {
          "base_uri": "https://localhost:8080/",
          "height": 318
        },
        "id": "kMpbep4hQbhe",
        "outputId": "daf51680-04ac-4291-f4f3-fcbb21a60ace"
      },
      "execution_count": 6,
      "outputs": [
        {
          "output_type": "display_data",
          "data": {
            "text/plain": [
              "\u001b[1mModel: \"functional_1\"\u001b[0m\n"
            ],
            "text/html": [
              "<pre style=\"white-space:pre;overflow-x:auto;line-height:normal;font-family:Menlo,'DejaVu Sans Mono',consolas,'Courier New',monospace\"><span style=\"font-weight: bold\">Model: \"functional_1\"</span>\n",
              "</pre>\n"
            ]
          },
          "metadata": {}
        },
        {
          "output_type": "display_data",
          "data": {
            "text/plain": [
              "┏━━━━━━━━━━━━━━━━━━━━━━━━━━━┳━━━━━━━━━━━━━━━━━━━━━━━━┳━━━━━━━━━━━━━━━━┳━━━━━━━━━━━━━━━━━━━━━━━━┓\n",
              "┃\u001b[1m \u001b[0m\u001b[1mLayer (type)             \u001b[0m\u001b[1m \u001b[0m┃\u001b[1m \u001b[0m\u001b[1mOutput Shape          \u001b[0m\u001b[1m \u001b[0m┃\u001b[1m \u001b[0m\u001b[1m       Param #\u001b[0m\u001b[1m \u001b[0m┃\u001b[1m \u001b[0m\u001b[1mConnected to          \u001b[0m\u001b[1m \u001b[0m┃\n",
              "┡━━━━━━━━━━━━━━━━━━━━━━━━━━━╇━━━━━━━━━━━━━━━━━━━━━━━━╇━━━━━━━━━━━━━━━━╇━━━━━━━━━━━━━━━━━━━━━━━━┩\n",
              "│ input_layer_1             │ (\u001b[38;5;45mNone\u001b[0m, \u001b[38;5;34m28\u001b[0m, \u001b[38;5;34m28\u001b[0m)         │              \u001b[38;5;34m0\u001b[0m │ -                      │\n",
              "│ (\u001b[38;5;33mInputLayer\u001b[0m)              │                        │                │                        │\n",
              "├───────────────────────────┼────────────────────────┼────────────────┼────────────────────────┤\n",
              "│ input_layer_2             │ (\u001b[38;5;45mNone\u001b[0m, \u001b[38;5;34m28\u001b[0m, \u001b[38;5;34m28\u001b[0m)         │              \u001b[38;5;34m0\u001b[0m │ -                      │\n",
              "│ (\u001b[38;5;33mInputLayer\u001b[0m)              │                        │                │                        │\n",
              "├───────────────────────────┼────────────────────────┼────────────────┼────────────────────────┤\n",
              "│ functional (\u001b[38;5;33mFunctional\u001b[0m)   │ (\u001b[38;5;45mNone\u001b[0m, \u001b[38;5;34m128\u001b[0m)            │        \u001b[38;5;34m133,504\u001b[0m │ input_layer_1[\u001b[38;5;34m0\u001b[0m][\u001b[38;5;34m0\u001b[0m],   │\n",
              "│                           │                        │                │ input_layer_2[\u001b[38;5;34m0\u001b[0m][\u001b[38;5;34m0\u001b[0m]    │\n",
              "├───────────────────────────┼────────────────────────┼────────────────┼────────────────────────┤\n",
              "│ lambda (\u001b[38;5;33mLambda\u001b[0m)           │ (\u001b[38;5;45mNone\u001b[0m, \u001b[38;5;34m1\u001b[0m)              │              \u001b[38;5;34m0\u001b[0m │ functional[\u001b[38;5;34m0\u001b[0m][\u001b[38;5;34m0\u001b[0m],      │\n",
              "│                           │                        │                │ functional[\u001b[38;5;34m1\u001b[0m][\u001b[38;5;34m0\u001b[0m]       │\n",
              "└───────────────────────────┴────────────────────────┴────────────────┴────────────────────────┘\n"
            ],
            "text/html": [
              "<pre style=\"white-space:pre;overflow-x:auto;line-height:normal;font-family:Menlo,'DejaVu Sans Mono',consolas,'Courier New',monospace\">┏━━━━━━━━━━━━━━━━━━━━━━━━━━━┳━━━━━━━━━━━━━━━━━━━━━━━━┳━━━━━━━━━━━━━━━━┳━━━━━━━━━━━━━━━━━━━━━━━━┓\n",
              "┃<span style=\"font-weight: bold\"> Layer (type)              </span>┃<span style=\"font-weight: bold\"> Output Shape           </span>┃<span style=\"font-weight: bold\">        Param # </span>┃<span style=\"font-weight: bold\"> Connected to           </span>┃\n",
              "┡━━━━━━━━━━━━━━━━━━━━━━━━━━━╇━━━━━━━━━━━━━━━━━━━━━━━━╇━━━━━━━━━━━━━━━━╇━━━━━━━━━━━━━━━━━━━━━━━━┩\n",
              "│ input_layer_1             │ (<span style=\"color: #00d7ff; text-decoration-color: #00d7ff\">None</span>, <span style=\"color: #00af00; text-decoration-color: #00af00\">28</span>, <span style=\"color: #00af00; text-decoration-color: #00af00\">28</span>)         │              <span style=\"color: #00af00; text-decoration-color: #00af00\">0</span> │ -                      │\n",
              "│ (<span style=\"color: #0087ff; text-decoration-color: #0087ff\">InputLayer</span>)              │                        │                │                        │\n",
              "├───────────────────────────┼────────────────────────┼────────────────┼────────────────────────┤\n",
              "│ input_layer_2             │ (<span style=\"color: #00d7ff; text-decoration-color: #00d7ff\">None</span>, <span style=\"color: #00af00; text-decoration-color: #00af00\">28</span>, <span style=\"color: #00af00; text-decoration-color: #00af00\">28</span>)         │              <span style=\"color: #00af00; text-decoration-color: #00af00\">0</span> │ -                      │\n",
              "│ (<span style=\"color: #0087ff; text-decoration-color: #0087ff\">InputLayer</span>)              │                        │                │                        │\n",
              "├───────────────────────────┼────────────────────────┼────────────────┼────────────────────────┤\n",
              "│ functional (<span style=\"color: #0087ff; text-decoration-color: #0087ff\">Functional</span>)   │ (<span style=\"color: #00d7ff; text-decoration-color: #00d7ff\">None</span>, <span style=\"color: #00af00; text-decoration-color: #00af00\">128</span>)            │        <span style=\"color: #00af00; text-decoration-color: #00af00\">133,504</span> │ input_layer_1[<span style=\"color: #00af00; text-decoration-color: #00af00\">0</span>][<span style=\"color: #00af00; text-decoration-color: #00af00\">0</span>],   │\n",
              "│                           │                        │                │ input_layer_2[<span style=\"color: #00af00; text-decoration-color: #00af00\">0</span>][<span style=\"color: #00af00; text-decoration-color: #00af00\">0</span>]    │\n",
              "├───────────────────────────┼────────────────────────┼────────────────┼────────────────────────┤\n",
              "│ lambda (<span style=\"color: #0087ff; text-decoration-color: #0087ff\">Lambda</span>)           │ (<span style=\"color: #00d7ff; text-decoration-color: #00d7ff\">None</span>, <span style=\"color: #00af00; text-decoration-color: #00af00\">1</span>)              │              <span style=\"color: #00af00; text-decoration-color: #00af00\">0</span> │ functional[<span style=\"color: #00af00; text-decoration-color: #00af00\">0</span>][<span style=\"color: #00af00; text-decoration-color: #00af00\">0</span>],      │\n",
              "│                           │                        │                │ functional[<span style=\"color: #00af00; text-decoration-color: #00af00\">1</span>][<span style=\"color: #00af00; text-decoration-color: #00af00\">0</span>]       │\n",
              "└───────────────────────────┴────────────────────────┴────────────────┴────────────────────────┘\n",
              "</pre>\n"
            ]
          },
          "metadata": {}
        },
        {
          "output_type": "display_data",
          "data": {
            "text/plain": [
              "\u001b[1m Total params: \u001b[0m\u001b[38;5;34m133,504\u001b[0m (521.50 KB)\n"
            ],
            "text/html": [
              "<pre style=\"white-space:pre;overflow-x:auto;line-height:normal;font-family:Menlo,'DejaVu Sans Mono',consolas,'Courier New',monospace\"><span style=\"font-weight: bold\"> Total params: </span><span style=\"color: #00af00; text-decoration-color: #00af00\">133,504</span> (521.50 KB)\n",
              "</pre>\n"
            ]
          },
          "metadata": {}
        },
        {
          "output_type": "display_data",
          "data": {
            "text/plain": [
              "\u001b[1m Trainable params: \u001b[0m\u001b[38;5;34m133,504\u001b[0m (521.50 KB)\n"
            ],
            "text/html": [
              "<pre style=\"white-space:pre;overflow-x:auto;line-height:normal;font-family:Menlo,'DejaVu Sans Mono',consolas,'Courier New',monospace\"><span style=\"font-weight: bold\"> Trainable params: </span><span style=\"color: #00af00; text-decoration-color: #00af00\">133,504</span> (521.50 KB)\n",
              "</pre>\n"
            ]
          },
          "metadata": {}
        },
        {
          "output_type": "display_data",
          "data": {
            "text/plain": [
              "\u001b[1m Non-trainable params: \u001b[0m\u001b[38;5;34m0\u001b[0m (0.00 B)\n"
            ],
            "text/html": [
              "<pre style=\"white-space:pre;overflow-x:auto;line-height:normal;font-family:Menlo,'DejaVu Sans Mono',consolas,'Courier New',monospace\"><span style=\"font-weight: bold\"> Non-trainable params: </span><span style=\"color: #00af00; text-decoration-color: #00af00\">0</span> (0.00 B)\n",
              "</pre>\n"
            ]
          },
          "metadata": {}
        }
      ]
    },
    {
      "cell_type": "markdown",
      "source": [
        "Тепер ми компілюємо модель, використовуючи функцію втрат contrastive loss, і навчаємо її на підготовлених парах."
      ],
      "metadata": {
        "id": "N-wUYpeeYW-H"
      }
    },
    {
      "cell_type": "code",
      "source": [
        "from tensorflow.keras.optimizers import RMSprop\n",
        "from tensorflow.keras import backend as K"
      ],
      "metadata": {
        "id": "W3CFzIlPQ1QC"
      },
      "execution_count": 7,
      "outputs": []
    },
    {
      "cell_type": "code",
      "source": [
        "# Функція втрат для сіамської мережі\n",
        "def contrastive_loss(y_true, y_pred):\n",
        "    margin = 1\n",
        "    y_true = K.cast(y_true, 'float32')\n",
        "    sqaure_pred = K.square(y_pred)\n",
        "    margin_square = K.square(K.maximum(margin - y_pred, 0))\n",
        "    return K.mean(y_true * sqaure_pred + (1 - y_true) * margin_square)\n",
        "\n",
        "# Компіляція моделі\n",
        "model.compile(loss=contrastive_loss, optimizer=RMSprop(), metrics=[\"accuracy\"])\n",
        "\n",
        "# Навчання моделі\n",
        "history = model.fit(\n",
        "    [train_pairs[:, 0], train_pairs[:, 1]],\n",
        "    train_labels,\n",
        "    validation_data=([test_pairs[:, 0], test_pairs[:, 1]], test_labels),\n",
        "    batch_size=128,\n",
        "    epochs=10\n",
        ")\n"
      ],
      "metadata": {
        "colab": {
          "base_uri": "https://localhost:8080/"
        },
        "id": "pMTdd1r6Qy63",
        "outputId": "09e92c9b-3523-4cff-8c71-79b2202b4d34"
      },
      "execution_count": 8,
      "outputs": [
        {
          "output_type": "stream",
          "name": "stdout",
          "text": [
            "Epoch 1/10\n",
            "\u001b[1m938/938\u001b[0m \u001b[32m━━━━━━━━━━━━━━━━━━━━\u001b[0m\u001b[37m\u001b[0m \u001b[1m14s\u001b[0m 11ms/step - accuracy: 0.4925 - loss: 1755.0818 - val_accuracy: 0.5001 - val_loss: 0.5007\n",
            "Epoch 2/10\n",
            "\u001b[1m938/938\u001b[0m \u001b[32m━━━━━━━━━━━━━━━━━━━━\u001b[0m\u001b[37m\u001b[0m \u001b[1m10s\u001b[0m 11ms/step - accuracy: 0.5019 - loss: 0.5076 - val_accuracy: 0.3763 - val_loss: 0.3239\n",
            "Epoch 3/10\n",
            "\u001b[1m938/938\u001b[0m \u001b[32m━━━━━━━━━━━━━━━━━━━━\u001b[0m\u001b[37m\u001b[0m \u001b[1m20s\u001b[0m 11ms/step - accuracy: 0.3400 - loss: 0.2818 - val_accuracy: 0.2832 - val_loss: 0.2813\n",
            "Epoch 4/10\n",
            "\u001b[1m938/938\u001b[0m \u001b[32m━━━━━━━━━━━━━━━━━━━━\u001b[0m\u001b[37m\u001b[0m \u001b[1m10s\u001b[0m 11ms/step - accuracy: 0.2990 - loss: 0.2166 - val_accuracy: 0.2775 - val_loss: 0.2771\n",
            "Epoch 5/10\n",
            "\u001b[1m938/938\u001b[0m \u001b[32m━━━━━━━━━━━━━━━━━━━━\u001b[0m\u001b[37m\u001b[0m \u001b[1m9s\u001b[0m 10ms/step - accuracy: 0.2967 - loss: 0.2079 - val_accuracy: 0.2611 - val_loss: 0.2601\n",
            "Epoch 6/10\n",
            "\u001b[1m938/938\u001b[0m \u001b[32m━━━━━━━━━━━━━━━━━━━━\u001b[0m\u001b[37m\u001b[0m \u001b[1m11s\u001b[0m 11ms/step - accuracy: 0.2788 - loss: 0.2095 - val_accuracy: 0.2612 - val_loss: 0.2595\n",
            "Epoch 7/10\n",
            "\u001b[1m938/938\u001b[0m \u001b[32m━━━━━━━━━━━━━━━━━━━━\u001b[0m\u001b[37m\u001b[0m \u001b[1m10s\u001b[0m 11ms/step - accuracy: 0.2815 - loss: 0.2117 - val_accuracy: 0.2741 - val_loss: 0.2740\n",
            "Epoch 8/10\n",
            "\u001b[1m938/938\u001b[0m \u001b[32m━━━━━━━━━━━━━━━━━━━━\u001b[0m\u001b[37m\u001b[0m \u001b[1m10s\u001b[0m 11ms/step - accuracy: 0.2914 - loss: 0.1989 - val_accuracy: 0.2752 - val_loss: 0.2761\n",
            "Epoch 9/10\n",
            "\u001b[1m938/938\u001b[0m \u001b[32m━━━━━━━━━━━━━━━━━━━━\u001b[0m\u001b[37m\u001b[0m \u001b[1m19s\u001b[0m 9ms/step - accuracy: 0.2893 - loss: 0.1927 - val_accuracy: 0.2708 - val_loss: 0.2711\n",
            "Epoch 10/10\n",
            "\u001b[1m938/938\u001b[0m \u001b[32m━━━━━━━━━━━━━━━━━━━━\u001b[0m\u001b[37m\u001b[0m \u001b[1m11s\u001b[0m 10ms/step - accuracy: 0.2955 - loss: 0.2313 - val_accuracy: 0.2535 - val_loss: 0.2541\n"
          ]
        }
      ]
    },
    {
      "cell_type": "code",
      "source": [
        "import matplotlib.pyplot as plt"
      ],
      "metadata": {
        "id": "bmOe-4QcSYsc"
      },
      "execution_count": 9,
      "outputs": []
    },
    {
      "cell_type": "code",
      "source": [
        "# Графік втрат\n",
        "plt.figure(figsize=(10, 5))\n",
        "plt.plot(history.history['loss'], label='Train Loss', color='red')\n",
        "plt.plot(history.history['val_loss'], label='Validation Loss', color='blue')\n",
        "plt.title('Loss During Training')\n",
        "plt.xlabel('Epoch')\n",
        "plt.ylabel('Loss')\n",
        "plt.legend()\n",
        "plt.show()\n",
        "\n",
        "# Графік точності\n",
        "plt.figure(figsize=(10, 5))\n",
        "plt.plot(history.history['accuracy'], label='Train Accuracy', color='red')\n",
        "plt.plot(history.history['val_accuracy'], label='Validation Accuracy', color='blue')\n",
        "plt.title('Accuracy During Training')\n",
        "plt.xlabel('Epoch')\n",
        "plt.ylabel('Accuracy')\n",
        "plt.legend()\n",
        "plt.show()\n"
      ],
      "metadata": {
        "colab": {
          "base_uri": "https://localhost:8080/",
          "height": 957
        },
        "id": "SCzUAld_SW0s",
        "outputId": "98c2c12d-a37f-4964-94a9-a6b44c97ad74"
      },
      "execution_count": 14,
      "outputs": [
        {
          "output_type": "display_data",
          "data": {
            "text/plain": [
              "<Figure size 1000x500 with 1 Axes>"
            ],
            "image/png": "[encoded data removed]"
          },
          "metadata": {}
        },
        {
          "output_type": "display_data",
          "data": {
            "text/plain": [
              "<Figure size 1000x500 with 1 Axes>"
            ],
            "image/png": "[encoded data removed]"
          },
          "metadata": {}
        }
      ]
    },
    {
      "cell_type": "markdown",
      "source": [
        "####**Аналіз графіків**"
      ],
      "metadata": {
        "id": "zFJg-A6zWsTa"
      }
    },
    {
      "cell_type": "markdown",
      "source": [
        "Графік втрат (Loss During Training): На першому графіку показано динаміку функції втрат (loss) під час навчання. Спостерігається різке зниження втрат на початкових епохах навчання, що свідчить про те, що модель швидко адаптується до даних на ранніх етапах. Однак, валідаційні втрати залишаються стабільними, що може свідчити про недостатню здатність моделі узагальнювати результати на тестових даних. Для покращення результатів варто розглянути зміни в архітектурі моделі або її параметрах.\n",
        "\n",
        "Графік точності (Accuracy During Training): На другому графіку відображено динаміку точності (accuracy) на тренувальному та валідаційному наборах. Точність на тренувальних даних демонструє зниження після початкових епох, що вказує на можливу проблему з перенавчанням або нестачею якості у вхідних даних. Валідаційна точність також має тенденцію до зниження, що може вказувати на недосконалість моделі у розрізненні схожих та різних пар зображень."
      ],
      "metadata": {
        "id": "Ehp-5BK3UEOs"
      }
    },
    {
      "cell_type": "markdown",
      "source": [
        "###Етап 2: Вплив регуляризації та нормалізації\n"
      ],
      "metadata": {
        "id": "n2cfhvWOUBrv"
      }
    },
    {
      "cell_type": "markdown",
      "source": [
        "Регуляризація та нормалізація допомагають уникнути перенавчання. Ми додамо BatchNormalization та змінюватимемо рівень Dropout, щоб оцінити вплив."
      ],
      "metadata": {
        "id": "FouQRg63Yj03"
      }
    },
    {
      "cell_type": "code",
      "source": [
        "from tensorflow.keras.layers import BatchNormalization"
      ],
      "metadata": {
        "id": "ddueka7bUPu4"
      },
      "execution_count": 15,
      "outputs": []
    },
    {
      "cell_type": "code",
      "source": [
        "def create_improved_base_network(input_shape):\n",
        "    input_layer = Input(shape=input_shape)\n",
        "    x = Flatten()(input_layer)\n",
        "    x = Dense(128, activation='relu')(x)\n",
        "    x = BatchNormalization()(x)  # Нормалізація після Dense\n",
        "    x = Dropout(0.3)(x)  # Підвищення Dropout\n",
        "    x = Dense(128, activation='relu')(x)\n",
        "    x = BatchNormalization()(x)\n",
        "    x = Dropout(0.3)(x)\n",
        "    x = Dense(128, activation='relu')(x)\n",
        "    return Model(input_layer, x)\n",
        "\n",
        "# Створюємо нову базову підмережу\n",
        "improved_base_network = create_improved_base_network(input_shape)\n",
        "\n",
        "# Побудова нової сіамської мережі з покращеною базовою підмережою\n",
        "input_a = Input(shape=(28, 28))\n",
        "input_b = Input(shape=(28, 28))\n",
        "\n",
        "processed_a = improved_base_network(input_a)\n",
        "processed_b = improved_base_network(input_b)\n",
        "\n",
        "distance = Lambda(euclidean_distance)([processed_a, processed_b])\n",
        "\n",
        "improved_model = Model(inputs=[input_a, input_b], outputs=distance)\n"
      ],
      "metadata": {
        "id": "emZ4MaT_UDcR"
      },
      "execution_count": 16,
      "outputs": []
    },
    {
      "cell_type": "code",
      "source": [
        "# Компіляція та навчання\n",
        "improved_model.compile(loss=contrastive_loss, optimizer=RMSprop(), metrics=[\"accuracy\"])\n",
        "\n",
        "history_improved = improved_model.fit(\n",
        "    [train_pairs[:, 0], train_pairs[:, 1]],\n",
        "    train_labels,\n",
        "    validation_data=([test_pairs[:, 0], test_pairs[:, 1]], test_labels),\n",
        "    batch_size=128,\n",
        "    epochs=10\n",
        ")"
      ],
      "metadata": {
        "colab": {
          "base_uri": "https://localhost:8080/"
        },
        "id": "RetRIoh5UVSv",
        "outputId": "7255fdef-2333-42d8-9910-5c5a8e854bb2"
      },
      "execution_count": 17,
      "outputs": [
        {
          "output_type": "stream",
          "name": "stdout",
          "text": [
            "Epoch 1/10\n",
            "\u001b[1m938/938\u001b[0m \u001b[32m━━━━━━━━━━━━━━━━━━━━\u001b[0m\u001b[37m\u001b[0m \u001b[1m14s\u001b[0m 12ms/step - accuracy: 0.3746 - loss: 7.4191 - val_accuracy: 0.1327 - val_loss: 0.1070\n",
            "Epoch 2/10\n",
            "\u001b[1m938/938\u001b[0m \u001b[32m━━━━━━━━━━━━━━━━━━━━\u001b[0m\u001b[37m\u001b[0m \u001b[1m11s\u001b[0m 12ms/step - accuracy: 0.1360 - loss: 0.1084 - val_accuracy: 0.1185 - val_loss: 0.0898\n",
            "Epoch 3/10\n",
            "\u001b[1m938/938\u001b[0m \u001b[32m━━━━━━━━━━━━━━━━━━━━\u001b[0m\u001b[37m\u001b[0m \u001b[1m11s\u001b[0m 11ms/step - accuracy: 0.1209 - loss: 0.0955 - val_accuracy: 0.1143 - val_loss: 0.0859\n",
            "Epoch 4/10\n",
            "\u001b[1m938/938\u001b[0m \u001b[32m━━━━━━━━━━━━━━━━━━━━\u001b[0m\u001b[37m\u001b[0m \u001b[1m22s\u001b[0m 13ms/step - accuracy: 0.1122 - loss: 0.0888 - val_accuracy: 0.1072 - val_loss: 0.0816\n",
            "Epoch 5/10\n",
            "\u001b[1m938/938\u001b[0m \u001b[32m━━━━━━━━━━━━━━━━━━━━\u001b[0m\u001b[37m\u001b[0m \u001b[1m19s\u001b[0m 11ms/step - accuracy: 0.1050 - loss: 0.0845 - val_accuracy: 0.1071 - val_loss: 0.0824\n",
            "Epoch 6/10\n",
            "\u001b[1m938/938\u001b[0m \u001b[32m━━━━━━━━━━━━━━━━━━━━\u001b[0m\u001b[37m\u001b[0m \u001b[1m20s\u001b[0m 11ms/step - accuracy: 0.1039 - loss: 0.0834 - val_accuracy: 0.0992 - val_loss: 0.0792\n",
            "Epoch 7/10\n",
            "\u001b[1m938/938\u001b[0m \u001b[32m━━━━━━━━━━━━━━━━━━━━\u001b[0m\u001b[37m\u001b[0m \u001b[1m11s\u001b[0m 12ms/step - accuracy: 0.1015 - loss: 0.0815 - val_accuracy: 0.1010 - val_loss: 0.0779\n",
            "Epoch 8/10\n",
            "\u001b[1m938/938\u001b[0m \u001b[32m━━━━━━━━━━━━━━━━━━━━\u001b[0m\u001b[37m\u001b[0m \u001b[1m20s\u001b[0m 11ms/step - accuracy: 0.1005 - loss: 0.0807 - val_accuracy: 0.1052 - val_loss: 0.0820\n",
            "Epoch 9/10\n",
            "\u001b[1m938/938\u001b[0m \u001b[32m━━━━━━━━━━━━━━━━━━━━\u001b[0m\u001b[37m\u001b[0m \u001b[1m21s\u001b[0m 12ms/step - accuracy: 0.0972 - loss: 0.0788 - val_accuracy: 0.0988 - val_loss: 0.0784\n",
            "Epoch 10/10\n",
            "\u001b[1m938/938\u001b[0m \u001b[32m━━━━━━━━━━━━━━━━━━━━\u001b[0m\u001b[37m\u001b[0m \u001b[1m22s\u001b[0m 14ms/step - accuracy: 0.0977 - loss: 0.0781 - val_accuracy: 0.0977 - val_loss: 0.0781\n"
          ]
        }
      ]
    },
    {
      "cell_type": "markdown",
      "source": [
        "Після другого навчання з регуляризацією та нормалізацією втрати на тренувальному наборі знизилися до значення +-0.0781, що свідчить про стабільність моделі, а валідаційні втрати залишилися на тому ж рівні, що вказує на відсутність перенавчання. Однак точність на тренувальних і валідаційних наборах залишається дуже низькою (~10%), що свідчить про нездатність моделі ефективно розрізняти схожі та різні пари. Це може бути пов’язано з тим, що навіть із регуляризацією та нормалізацією базова підмережа недостатньо складна для виділення якісних ознак."
      ],
      "metadata": {
        "id": "T_srgK9-Y5rs"
      }
    },
    {
      "cell_type": "markdown",
      "source": [
        "###Етап 3: Зміна архітектури базової підмережі"
      ],
      "metadata": {
        "id": "NtBWGttqWEwt"
      }
    },
    {
      "cell_type": "markdown",
      "source": [
        "Але давайте перейдемо до більш складної та спеціалізованої архітектури, заснованої на згорткових шарах (CNN). Вона значно краще працює з зображеннями, тому ми очікуємо покращення."
      ],
      "metadata": {
        "id": "eEAfvrwMZHNm"
      }
    },
    {
      "cell_type": "markdown",
      "source": [
        "Замість повнозв’язних шарів (Dense) ми використаємо згорткові шари (CNN), які краще працюють із зображеннями."
      ],
      "metadata": {
        "id": "N8cpGBxwYnTy"
      }
    },
    {
      "cell_type": "code",
      "source": [
        "from tensorflow.keras.layers import Reshape, Conv2D, MaxPooling2D, Flatten, Dense"
      ],
      "metadata": {
        "id": "HxQ6_AHkVXV7"
      },
      "execution_count": 20,
      "outputs": []
    },
    {
      "cell_type": "code",
      "source": [
        "def create_cnn_base_network(input_shape):\n",
        "    input_layer = Input(shape=input_shape)\n",
        "    x = Reshape((28, 28, 1))(input_layer)  # Додамо канал для CNN\n",
        "    x = Conv2D(32, (3, 3), activation='relu')(x)\n",
        "    x = MaxPooling2D(pool_size=(2, 2))(x)\n",
        "    x = Conv2D(64, (3, 3), activation='relu')(x)\n",
        "    x = MaxPooling2D(pool_size=(2, 2))(x)\n",
        "    x = Flatten()(x)\n",
        "    x = Dense(128, activation='relu')(x)\n",
        "    return Model(input_layer, x)\n",
        "\n",
        "# Створюємо CNN-базову підмережу\n",
        "cnn_base_network = create_cnn_base_network(input_shape)\n",
        "\n",
        "# Побудова нової сіамської мережі з CNN\n",
        "processed_a = cnn_base_network(input_a)\n",
        "processed_b = cnn_base_network(input_b)\n",
        "\n",
        "distance_cnn = Lambda(euclidean_distance)([processed_a, processed_b])\n",
        "\n",
        "cnn_model = Model(inputs=[input_a, input_b], outputs=distance_cnn)\n"
      ],
      "metadata": {
        "id": "bYDWyqaDVVc5"
      },
      "execution_count": 21,
      "outputs": []
    },
    {
      "cell_type": "code",
      "source": [
        "# Компіляція та навчання\n",
        "cnn_model.compile(loss=contrastive_loss, optimizer=RMSprop(), metrics=[\"accuracy\"])\n",
        "\n",
        "history_cnn = cnn_model.fit(\n",
        "    [train_pairs[:, 0], train_pairs[:, 1]],\n",
        "    train_labels,\n",
        "    validation_data=([test_pairs[:, 0], test_pairs[:, 1]], test_labels),\n",
        "    batch_size=128,\n",
        "    epochs=10\n",
        ")"
      ],
      "metadata": {
        "colab": {
          "base_uri": "https://localhost:8080/"
        },
        "id": "sdVQJSOQVwG_",
        "outputId": "1724cb94-921d-4194-c228-91dc31a3466a"
      },
      "execution_count": 22,
      "outputs": [
        {
          "output_type": "stream",
          "name": "stdout",
          "text": [
            "Epoch 1/10\n",
            "\u001b[1m938/938\u001b[0m \u001b[32m━━━━━━━━━━━━━━━━━━━━\u001b[0m\u001b[37m\u001b[0m \u001b[1m225s\u001b[0m 238ms/step - accuracy: 0.4972 - loss: 43.6589 - val_accuracy: 0.5001 - val_loss: 0.5033\n",
            "Epoch 2/10\n",
            "\u001b[1m938/938\u001b[0m \u001b[32m━━━━━━━━━━━━━━━━━━━━\u001b[0m\u001b[37m\u001b[0m \u001b[1m224s\u001b[0m 238ms/step - accuracy: 0.4968 - loss: 0.5781 - val_accuracy: 0.5001 - val_loss: 0.5003\n",
            "Epoch 3/10\n",
            "\u001b[1m938/938\u001b[0m \u001b[32m━━━━━━━━━━━━━━━━━━━━\u001b[0m\u001b[37m\u001b[0m \u001b[1m248s\u001b[0m 224ms/step - accuracy: 0.4999 - loss: 0.4996 - val_accuracy: 0.5001 - val_loss: 0.5003\n",
            "Epoch 4/10\n",
            "\u001b[1m938/938\u001b[0m \u001b[32m━━━━━━━━━━━━━━━━━━━━\u001b[0m\u001b[37m\u001b[0m \u001b[1m265s\u001b[0m 227ms/step - accuracy: 0.4981 - loss: 0.4978 - val_accuracy: 0.5001 - val_loss: 0.5003\n",
            "Epoch 5/10\n",
            "\u001b[1m938/938\u001b[0m \u001b[32m━━━━━━━━━━━━━━━━━━━━\u001b[0m\u001b[37m\u001b[0m \u001b[1m259s\u001b[0m 224ms/step - accuracy: 0.4998 - loss: 0.4995 - val_accuracy: 0.5001 - val_loss: 0.5003\n",
            "Epoch 6/10\n",
            "\u001b[1m938/938\u001b[0m \u001b[32m━━━━━━━━━━━━━━━━━━━━\u001b[0m\u001b[37m\u001b[0m \u001b[1m210s\u001b[0m 224ms/step - accuracy: 0.4988 - loss: 0.4985 - val_accuracy: 0.5001 - val_loss: 0.5003\n",
            "Epoch 7/10\n",
            "\u001b[1m938/938\u001b[0m \u001b[32m━━━━━━━━━━━━━━━━━━━━\u001b[0m\u001b[37m\u001b[0m \u001b[1m261s\u001b[0m 224ms/step - accuracy: 0.5021 - loss: 0.5017 - val_accuracy: 0.5001 - val_loss: 0.5003\n",
            "Epoch 8/10\n",
            "\u001b[1m938/938\u001b[0m \u001b[32m━━━━━━━━━━━━━━━━━━━━\u001b[0m\u001b[37m\u001b[0m \u001b[1m210s\u001b[0m 224ms/step - accuracy: 0.5017 - loss: 0.5014 - val_accuracy: 0.5001 - val_loss: 0.5003\n",
            "Epoch 9/10\n",
            "\u001b[1m938/938\u001b[0m \u001b[32m━━━━━━━━━━━━━━━━━━━━\u001b[0m\u001b[37m\u001b[0m \u001b[1m261s\u001b[0m 223ms/step - accuracy: 0.5009 - loss: 0.5006 - val_accuracy: 0.5001 - val_loss: 0.5003\n",
            "Epoch 10/10\n",
            "\u001b[1m938/938\u001b[0m \u001b[32m━━━━━━━━━━━━━━━━━━━━\u001b[0m\u001b[37m\u001b[0m \u001b[1m267s\u001b[0m 228ms/step - accuracy: 0.5023 - loss: 0.5020 - val_accuracy: 0.5001 - val_loss: 0.5003\n"
          ]
        }
      ]
    },
    {
      "cell_type": "markdown",
      "source": [
        "*використання CNN-архітектури додає часу на навчання, оскільки згорткові шари значно збільшують обчислювальну складність."
      ],
      "metadata": {
        "id": "IRJx_RcIV-ZW"
      }
    },
    {
      "cell_type": "code",
      "source": [],
      "metadata": {
        "id": "x_eOWTHeV_vH"
      },
      "execution_count": null,
      "outputs": []
    }
  ]
}