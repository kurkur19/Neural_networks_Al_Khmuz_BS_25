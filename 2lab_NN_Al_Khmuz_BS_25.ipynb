{
  "nbformat": 4,
  "nbformat_minor": 0,
  "metadata": {
    "colab": {
      "provenance": [],
      "toc_visible": true,
      "authorship_tag": "ABX9TyO46P/Fyd03ScgTwhbC9CDu",
      "include_colab_link": true
    },
    "kernelspec": {
      "name": "python3",
      "display_name": "Python 3"
    },
    "language_info": {
      "name": "python"
    }
  },
  "cells": [
    {
      "cell_type": "markdown",
      "metadata": {
        "id": "view-in-github",
        "colab_type": "text"
      },
      "source": [
        "<a href=\"https://colab.research.google.com/github/kurkur19/Neural_networks_Al_Khmuz_BS_25/blob/main/2lab_NN_Al_Khmuz_BS_25.ipynb\" target=\"_parent\"><img src=\"https://colab.research.google.com/assets/colab-badge.svg\" alt=\"Open In Colab\"/></a>"
      ]
    },
    {
      "cell_type": "markdown",
      "source": [
        "#ПРАКТИЧНА РОБОТА №2\n",
        "######МЕТОДИ ОПТИМІЗАЦІЇ\n"
      ],
      "metadata": {
        "id": "GHh1fi2145VZ"
      }
    },
    {
      "cell_type": "markdown",
      "source": [
        "###Мета роботи:\n",
        "ознайомитися із різноманітними методами оптимізації, які використовуються в машинному навчанні, зокрема, в області нейронних мереж."
      ],
      "metadata": {
        "id": "An7by1rC5RgJ"
      }
    },
    {
      "cell_type": "markdown",
      "source": [
        "##Теоретична частина"
      ],
      "metadata": {
        "id": "-aSalHRG5WA9"
      }
    },
    {
      "cell_type": "markdown",
      "source": [
        "***Оптимізація*** - це процес пошуку\n",
        "найкращих (або, точніше кажучи, \"оптимальних\") параметрів для конкретної\n",
        "моделі або системи."
      ],
      "metadata": {
        "id": "JUE6VjrT6q9H"
      }
    },
    {
      "cell_type": "markdown",
      "source": [
        "Методи оптимізації можна грубо поділити на дві основні категорії:\n",
        "*градієнтні* методи і *неградієнтні* методи."
      ],
      "metadata": {
        "id": "CRlDtew163W6"
      }
    },
    {
      "cell_type": "markdown",
      "source": [
        "***Градієнтні методи оптимізації*** використовують градієнт функції втрат, щоб\n",
        "визначити, в якому напрямку потрібно змінити параметри моделі, щоб\n",
        "мінімізувати втрати. Найпростіший градієнтний метод - це градієнтний спуск, але\n",
        "існує багато його варіацій, включаючи стохастичний градієнтний спуск (SGD),\n",
        "градієнтний спуск з імпульсом (Momentum), RMSprop, Adam та інші.\n"
      ],
      "metadata": {
        "id": "re9GHmgJ67rT"
      }
    },
    {
      "cell_type": "markdown",
      "source": [
        "***Неградієнтні методи оптимізації*** не використовують градієнт функції втрат.\n",
        "Замість цього вони пошукають оптимальні параметри, використовуючи інші\n",
        "методи. Наприклад, симуляційне відпалювання (Simulated Annealing)\n",
        "використовує випадковий пошук з поступовим зменшенням \"температури\" для\n",
        "знаходження оптимуму. Генетичні алгоритми використовують механізми\n",
        "еволюції, такі як мутація, кросинговер і відбір, для пошуку оптимальних рішень.\n",
        "Деякі інші методи включають Пошук за зразком (Pattern Search), Метод рою\n",
        "частинок (Particle Swarm Optimization), алгоритми оптимізації на основі колонії\n",
        "мурах (Ant Colony Optimization algorithms) та багато інших."
      ],
      "metadata": {
        "id": "7XoEVLIc7CM8"
      }
    },
    {
      "cell_type": "markdown",
      "source": [
        "***Градієнтний спуск*** є одним із найпростіших і найбільш широко\n",
        "використовуваних алгоритмів оптимізації, який шукає мінімуми\n",
        "диференційованої функції. Ідея полягає в тому, щоб робити невеликі кроки в\n",
        "напрямку найшвидшого спадання функції, який задається градієнтом функції в\n",
        "даній точці."
      ],
      "metadata": {
        "id": "dcE-uNqI7psN"
      }
    },
    {
      "cell_type": "markdown",
      "source": [
        "***Лінійна регресія*** це простий метод\n",
        "машинного навчання, який передбачає вивчення лінійних відносин між цільовою\n",
        "змінною y і однією або більше змінними x."
      ],
      "metadata": {
        "id": "y6pzKomK8O0s"
      }
    },
    {
      "cell_type": "markdown",
      "source": [
        "MSE - Mean Squared Error(середньоквадратична помилка)"
      ],
      "metadata": {
        "id": "nTfNG8eK8cEa"
      }
    },
    {
      "cell_type": "markdown",
      "source": [
        "**MSE = (1/n) * Σ(actual - prediction)²**\n",
        "\n",
        "де:\n",
        "\n",
        "\"actual\" – це дійсне значення змінної,\n",
        "\n",
        "\"prediction\" – це передбачене значення, яке обчислюється як mx + b\n",
        "\n",
        "\"n\" – це кількість спостережень у даних"
      ],
      "metadata": {
        "id": "znmrc82m8pl-"
      }
    },
    {
      "cell_type": "markdown",
      "source": [
        "Ця функція втрат відображає середній квадрат відхилення передбачених значень\n",
        "від фактичних. Чим менше значення MSE, тим краща модель передбачає дані."
      ],
      "metadata": {
        "id": "1gd5GWjq9AUs"
      }
    },
    {
      "cell_type": "markdown",
      "source": [
        "##Практична частина"
      ],
      "metadata": {
        "id": "9k6_ky785srB"
      }
    },
    {
      "cell_type": "markdown",
      "source": [
        "Виконати завдання трьома способами: градієнтним спуском, методом Hill\n",
        "Climbing, генетичним алгоритмом. Проаналізувати ефективність роботи кожного\n",
        "з алгоритмів: отримана точність, кількість ітерацій для отримання бажаної\n",
        "точності, необхідні ресурси, тощо."
      ],
      "metadata": {
        "id": "ZsxZWHOx9QCi"
      }
    },
    {
      "cell_type": "markdown",
      "source": [
        "Я, Аль Хмуз Карина Бассамівна, маю перший варіант, тому ось мій приклад:\n"
      ],
      "metadata": {
        "id": "-oAjvBrh9S80"
      }
    },
    {
      "cell_type": "markdown",
      "source": [
        "**Експоненційна функція: y = 3*exp(x) + noise**"
      ],
      "metadata": {
        "id": "FY-ckhVA9S5W"
      }
    },
    {
      "cell_type": "markdown",
      "source": [
        "\"noise\" – це деякий випадковий шум, який ви додаєте до функції, щоб зробити\n",
        "дані менш ідеальними і більш схожими на реальні дані, з якими ви могли б\n",
        "зустрітися в практичних ситуаціях. Наприклад, ви можете використовувати\n",
        "np.random.normal(loc=0.0, scale=0.1, size=x.shape) для додавання гаусового шуму\n",
        "з середнім значенням 0 і стандартним відхиленням 0.1.\n",
        "Контрольні питання"
      ],
      "metadata": {
        "id": "Y3xSjBtr9uaH"
      }
    },
    {
      "cell_type": "markdown",
      "source": [
        "Давайте приступимо до виконання нашої лабораторної роботи:"
      ],
      "metadata": {
        "id": "IvgWczVj_fCd"
      }
    },
    {
      "cell_type": "markdown",
      "source": [
        "Створимо дані з експоненційною функцією"
      ],
      "metadata": {
        "id": "iKiDnFqL_dOV"
      }
    },
    {
      "cell_type": "code",
      "source": [
        "import numpy as np\n",
        "import matplotlib.pyplot as plt\n",
        "from scipy.optimize import differential_evolution"
      ],
      "metadata": {
        "id": "gfmcLyia_p0x"
      },
      "execution_count": 34,
      "outputs": []
    },
    {
      "cell_type": "code",
      "execution_count": 35,
      "metadata": {
        "colab": {
          "base_uri": "https://localhost:8080/",
          "height": 430
        },
        "id": "oPfzeIo_4yjF",
        "outputId": "a8166e60-c22d-44e3-8eb2-45070ada282a"
      },
      "outputs": [
        {
          "output_type": "display_data",
          "data": {
            "text/plain": [
              "<Figure size 640x480 with 1 Axes>"
            ],
            "image/png": "[encoded data removed]"
          },
          "metadata": {}
        }
      ],
      "source": [
        "# Генеруємо дані\n",
        "np.random.seed(0)  # Для відтворюваності\n",
        "x = np.linspace(0, 2, 100)\n",
        "noise = np.random.normal(loc=0.0, scale=0.1, size=x.shape)\n",
        "y_true = 3 * np.exp(x)  # Істинне значення\n",
        "y = y_true + noise  # Додаємо шум\n",
        "\n",
        "# Візуалізація даних\n",
        "plt.scatter(x, y, label='Дані з шумом', color='blue')\n",
        "plt.plot(x, y_true, label='Істинна функція', color='red')\n",
        "plt.legend()\n",
        "plt.show()\n"
      ]
    },
    {
      "cell_type": "markdown",
      "source": [
        "У цьому коді ми генеруємо експоненційну функцію виду\n",
        "y=3*exp(x), до якої додається випадковий шум. Це імітує реальні дані, де завжди є якась похибка або шум. На графіку ми бачимо:\n",
        "\n",
        "Синю лінію — це точки з шумом, які імітують \"реальні\" дані.\n",
        "\n",
        "Червону лінію — це справжнє (ідеальне) значення функції без шуму."
      ],
      "metadata": {
        "id": "7zE7LtzdC0H2"
      }
    },
    {
      "cell_type": "markdown",
      "source": [
        "###Градієнтний спуск"
      ],
      "metadata": {
        "id": "6xXrG9gx_5nl"
      }
    },
    {
      "cell_type": "markdown",
      "source": [
        "Тут ми намагатимемось мінімізувати середньоквадратичну помилку (MSE)."
      ],
      "metadata": {
        "id": "N2hSN-7gACKb"
      }
    },
    {
      "cell_type": "code",
      "source": [
        "def gradient_descent(x, y, lr=0.01, epochs=1000):\n",
        "    m = 0.0  # Параметр для експоненційної функції\n",
        "    b = 0.0  # Зсув\n",
        "    n = len(y)\n",
        "    losses = []\n",
        "\n",
        "    for epoch in range(epochs):\n",
        "        y_pred = m * np.exp(x) + b\n",
        "        loss = np.mean((y_pred - y) ** 2)\n",
        "        losses.append(loss)\n",
        "\n",
        "        # Оновлюємо m та b\n",
        "        dm = (2/n) * np.sum((y_pred - y) * np.exp(x))\n",
        "        db = (2/n) * np.sum(y_pred - y)\n",
        "        m -= lr * dm\n",
        "        b -= lr * db\n",
        "\n",
        "        # Зупиняємо, якщо зміна мала\n",
        "        if epoch > 1 and abs(losses[-2] - losses[-1]) < 1e-6:\n",
        "            break\n",
        "\n",
        "    return m, b, losses\n",
        "\n",
        "m_gd, b_gd, losses_gd = gradient_descent(x, y)\n",
        "\n",
        "# Візуалізуємо результати\n",
        "plt.plot(losses_gd)\n",
        "plt.title('Градієнтний спуск: втрати')\n",
        "plt.xlabel('Ітерації')\n",
        "plt.ylabel('MSE')\n",
        "plt.show()\n"
      ],
      "metadata": {
        "colab": {
          "base_uri": "https://localhost:8080/",
          "height": 472
        },
        "id": "80Jci0s-_47c",
        "outputId": "0c944a61-fe87-4f2a-dcae-28a78cfb55d5"
      },
      "execution_count": 36,
      "outputs": [
        {
          "output_type": "display_data",
          "data": {
            "text/plain": [
              "<Figure size 640x480 with 1 Axes>"
            ],
            "image/png": "[encoded data removed]"
          },
          "metadata": {}
        }
      ]
    },
    {
      "cell_type": "markdown",
      "source": [
        "Квадратний графік показує те, як змінюється значення середньоквадратичної помилки (MSE) з кожною ітерацією. Чим менше значення помилки, тим точніше модель.\n",
        "\n",
        "Графік починається з великого значення помилки і поступово знижується, оскільки градієнтний спуск з кожною ітерацією наближається до оптимальних параметрів моделі. В ідеалі, коли лінія стає майже горизонтальною, це означає, що алгоритм досяг мінімуму помилки."
      ],
      "metadata": {
        "id": "r63wLPD4HH18"
      }
    },
    {
      "cell_type": "markdown",
      "source": [
        "**АЛЕ**"
      ],
      "metadata": {
        "id": "5AlZ0c-WHPGD"
      }
    },
    {
      "cell_type": "markdown",
      "source": [
        "Можна побачити, що цей графік виглядає так, наче що після нульової або першої ітерації графік майже повністю вирівнявся."
      ],
      "metadata": {
        "id": "ykoNGMJpG1Z2"
      }
    },
    {
      "cell_type": "markdown",
      "source": [
        "Давайте розберемомося:"
      ],
      "metadata": {
        "id": "tiIfev_gHb18"
      }
    },
    {
      "cell_type": "markdown",
      "source": [
        "На початкових ітераціях градієнтний спуск, зазвичай, робить великі зміни, щоб швидко зменшити помилку, а потім, ближче до мінімуму, кроки стають меншими. Тому графік повинен виглядати як спадаюча крива. Але в нас це трохи по іншому виглядає."
      ],
      "metadata": {
        "id": "bpwfdXxIHZvm"
      }
    },
    {
      "cell_type": "markdown",
      "source": [
        "Це може свідчити про наступне:\n",
        "\n",
        "Алгоритм занадто швидко навчається, можливо через занадто великий навчальний крок (learning rate). Якщо крок занадто великий, градієнтний спуск може швидко досягти мінімуму або навіть перескочити його.\n",
        "\n",
        "Якщо MSE дуже швидко зменшується і не змінюється після цього, це означає, що алгоритм швидко знайшов оптимальне рішення, але подальші ітерації не приносять значних покращень."
      ],
      "metadata": {
        "id": "K_NRAPQVHofA"
      }
    },
    {
      "cell_type": "markdown",
      "source": [
        "Але чи зміниться наш результат при такому виконанні? Мені стало це цікавим, тому я вирішила це перевірити у Додатку А (в кінці роботи)."
      ],
      "metadata": {
        "id": "7uNCH0jWQrF_"
      }
    },
    {
      "cell_type": "markdown",
      "source": [
        "###Метод Hill Climbing"
      ],
      "metadata": {
        "id": "__jb2vPTAQlR"
      }
    },
    {
      "cell_type": "markdown",
      "source": [
        "Hill Climbing працює, шукаючи покращення параметрів в кожній ітерації."
      ],
      "metadata": {
        "id": "ju-eCthTAbv3"
      }
    },
    {
      "cell_type": "code",
      "source": [
        "def hill_climbing(x, y, lr=0.01, epochs=1000):\n",
        "    m = np.random.rand()\n",
        "    b = np.random.rand()\n",
        "    n = len(y)\n",
        "    losses = []\n",
        "\n",
        "    for epoch in range(epochs):\n",
        "        y_pred = m * np.exp(x) + b\n",
        "        loss = np.mean((y_pred - y) ** 2)\n",
        "        losses.append(loss)\n",
        "\n",
        "        # Створюємо нові можливі зміни параметрів\n",
        "        m_new = m + np.random.uniform(-lr, lr)\n",
        "        b_new = b + np.random.uniform(-lr, lr)\n",
        "        y_pred_new = m_new * np.exp(x) + b_new\n",
        "        loss_new = np.mean((y_pred_new - y) ** 2)\n",
        "\n",
        "        # Приймаємо нові параметри, якщо покращення\n",
        "        if loss_new < loss:\n",
        "            m = m_new\n",
        "            b = b_new\n",
        "\n",
        "    return m, b, losses\n",
        "\n",
        "m_hc, b_hc, losses_hc = hill_climbing(x, y)\n",
        "\n",
        "# Візуалізуємо результати\n",
        "plt.plot(losses_hc)\n",
        "plt.title('Hill Climbing: втрати')\n",
        "plt.xlabel('Ітерації')\n",
        "plt.ylabel('MSE')\n",
        "plt.show()\n"
      ],
      "metadata": {
        "colab": {
          "base_uri": "https://localhost:8080/",
          "height": 472
        },
        "id": "fDLgznuQAUXy",
        "outputId": "9166b4ae-bbe6-4cdb-a6df-8c1fd7795104"
      },
      "execution_count": 37,
      "outputs": [
        {
          "output_type": "display_data",
          "data": {
            "text/plain": [
              "<Figure size 640x480 with 1 Axes>"
            ],
            "image/png": "[encoded data removed]"
          },
          "metadata": {}
        }
      ]
    },
    {
      "cell_type": "markdown",
      "source": [
        "У випадку з Hill Climbing ми бачимо спадаючу лінію на графіку. Це теж показник середньоквадратичної помилки (MSE) з кожною ітерацією:\n",
        "\n",
        "На початку алгоритм випадковим чином шукає нові варіанти параметрів, тому помилка може бути досить великою.\n",
        "\n",
        "Потім, поступово, алгоритм знаходить більш оптимальні значення, тому помилка зменшується. Проте Hill Climbing може застрягати у локальних мінімумах, тому графік не обов'язково досягне найнижчого можливого значення, як у випадку з градієнтним спуском."
      ],
      "metadata": {
        "id": "3jJX_RctD9nW"
      }
    },
    {
      "cell_type": "markdown",
      "source": [
        "###Генетичний алгоритм"
      ],
      "metadata": {
        "id": "Xj4_5wSiAdIw"
      }
    },
    {
      "cell_type": "markdown",
      "source": [
        "Цей метод використовує еволюційні принципи: вибір, схрещування, мутацію."
      ],
      "metadata": {
        "id": "Q0G9awnZAjnT"
      }
    },
    {
      "cell_type": "code",
      "source": [
        "from scipy.optimize import differential_evolution\n",
        "\n",
        "def fitness_function(params):\n",
        "    m, b = params\n",
        "    y_pred = m * np.exp(x) + b\n",
        "    return np.mean((y_pred - y) ** 2)\n",
        "\n",
        "bounds = [(0, 10), (0, 10)]  # Межі для параметрів\n",
        "result = differential_evolution(fitness_function, bounds)\n",
        "\n",
        "m_ga, b_ga = result.x\n",
        "loss_ga = result.fun\n",
        "\n",
        "print(f\"Генетичний алгоритм: m = {m_ga}, b = {b_ga}, MSE = {loss_ga}\")\n"
      ],
      "metadata": {
        "colab": {
          "base_uri": "https://localhost:8080/"
        },
        "id": "MHhimXQXAgZL",
        "outputId": "aae1efa3-35fb-4489-89fc-1febf2373155"
      },
      "execution_count": 38,
      "outputs": [
        {
          "output_type": "stream",
          "name": "stdout",
          "text": [
            "Генетичний алгоритм: m = 3.0007129118261413, b = 0.0037138231266155173, MSE = 0.010156514822918345\n"
          ]
        }
      ]
    },
    {
      "cell_type": "markdown",
      "source": [
        "\n",
        "b=0.0037 — це оптимальні значення параметрів моделі, які генетичний алгоритм знайшов. Значення\n",
        "𝑚\n",
        "дуже близьке до справжнього значення (3), що говорить про точність алгоритму.\n",
        "MSE = 0.01016 — це значення середньоквадратичної помилки, яке також вказує на високу точність результатів генетичного алгоритму."
      ],
      "metadata": {
        "id": "-SobNFulENdU"
      }
    },
    {
      "cell_type": "markdown",
      "source": [
        "У цьому випадку ми не маємо графіка, оскільки генетичний алгоритм використовує інший підхід, але ключовим є саме значення параметрів\n",
        "𝑚\n",
        "та\n",
        "𝑏 і похибка (MSE), які свідчать про успішне виконання алгоритму."
      ],
      "metadata": {
        "id": "tl1Co-wAEcMU"
      }
    },
    {
      "cell_type": "markdown",
      "source": [
        "###Порівняння методів"
      ],
      "metadata": {
        "id": "VzZHoxP7Apr5"
      }
    },
    {
      "cell_type": "markdown",
      "source": [
        "Тепер ми можемо порівняти всі методи:"
      ],
      "metadata": {
        "id": "oVcEO9faAtb0"
      }
    },
    {
      "cell_type": "code",
      "source": [
        "methods = ['Градієнтний спуск', 'Hill Climbing', 'Генетичний алгоритм']\n",
        "losses = [losses_gd[-1], losses_hc[-1], loss_ga]\n",
        "iterations = [len(losses_gd), len(losses_hc), result.nit]\n",
        "\n",
        "for method, loss, iters in zip(methods, losses, iterations):\n",
        "    print(f\"{method}: MSE = {loss}, Ітерацій = {iters}\")\n"
      ],
      "metadata": {
        "colab": {
          "base_uri": "https://localhost:8080/"
        },
        "id": "xPZkSNutAqv1",
        "outputId": "12b65315-bb8a-42d5-8153-f6116f9c9730"
      },
      "execution_count": 39,
      "outputs": [
        {
          "output_type": "stream",
          "name": "stdout",
          "text": [
            "Градієнтний спуск: MSE = 0.01026418599122882, Ітерацій = 758\n",
            "Hill Climbing: MSE = 0.1903706777861176, Ітерацій = 1000\n",
            "Генетичний алгоритм: MSE = 0.010156514822918345, Ітерацій = 22\n"
          ]
        }
      ]
    },
    {
      "cell_type": "markdown",
      "source": [
        "***Градієнтний спуск*** показав високий рівень точності (MSE = 0.010264) за 758 ітерацій. Завдяки зменшеному кроку навчання (learning rate = 0.001) ми отримали плавніший графік, який показує поступове зниження помилки. Це свідчить про те, що алгоритм поступово наближався до мінімуму, уникаючи великих стрибків. Градієнтний спуск є ефективним і стабільним методом, але може потребувати більше ітерацій для точного результату при невеликому кроці.\n",
        "\n",
        "***Hill Climbing*** виявився менш ефективним у порівнянні з іншими методами, отримавши значно більшу похибку (MSE = 0.19037). Це пов’язано з тим, що цей алгоритм може легко застрягати у локальних мінімумах і не гарантує глобальної оптимізації. Навіть після 1000 ітерацій результат не зміг досягти високої точності, що робить Hill Climbing менш ефективним для даного завдання.\n",
        "\n",
        "***Генетичний алгоритм*** продемонстрував чудову ефективність, досягнувши найнижчого значення похибки (MSE = 0.01016) і зробивши це всього за 22 ітерації. Це показує його здатність швидко знаходити глобальне рішення навіть у складних умовах з шумом. Однак, слід зазначити, що генетичні алгоритми можуть бути ресурсомісткими, особливо для великих наборів даних."
      ],
      "metadata": {
        "id": "1KWT7soWBQuA"
      }
    },
    {
      "cell_type": "markdown",
      "source": [
        "##Висновок"
      ],
      "metadata": {
        "id": "j6OzDcHeBcs5"
      }
    },
    {
      "cell_type": "markdown",
      "source": [
        "Градієнтний спуск та генетичний алгоритм показали майже однакову точність, проте генетичний алгоритм виявився значно швидшим за кількістю ітерацій. Hill Climbing виявився менш ефективним, що вказує на його слабкість при роботі з функціями, що мають багато локальних мінімумів. Для задач, де точність і швидкість є критично важливими, генетичний алгоритм виглядає найкращим вибором, тоді як градієнтний спуск є надійним, але повільнішим рішенням."
      ],
      "metadata": {
        "id": "DeCnjkXUBqS-"
      }
    },
    {
      "cell_type": "markdown",
      "source": [
        "##Контрольні питання"
      ],
      "metadata": {
        "id": "Xq7w1IVyWg7g"
      }
    },
    {
      "cell_type": "markdown",
      "source": [
        "*1. Що таке градієнтний спуск і для чого він використовується?*"
      ],
      "metadata": {
        "id": "ld_-zH3bWmDm"
      }
    },
    {
      "cell_type": "markdown",
      "source": [
        "\n",
        "Градієнтний спуск — це оптимізаційний алгоритм, який використовується для знаходження мінімуму функції. У контексті машинного навчання він застосовується для навчання моделей, коригуючи їх параметри (ваги та зсуви) таким чином, щоб зменшити похибку, вимірювану функцією втрат. Градієнтний спуск дозволяє знаходити оптимальні значення параметрів, що покращує точність прогнозів моделі."
      ],
      "metadata": {
        "id": "J1Kfw2YBYuVv"
      }
    },
    {
      "cell_type": "markdown",
      "source": [
        "*2.Які основні складові градієнтного спуску?*\n"
      ],
      "metadata": {
        "id": "Xnawhz8VWtrj"
      }
    },
    {
      "cell_type": "markdown",
      "source": [
        "\n",
        "Основні складові градієнтного спуску:\n",
        "\n",
        "Параметри моделі: Значення, що налаштовуються (ваги, зсуви).\n",
        "Функція втрат: Оцінює точність моделі.\n",
        "Градієнт: Вказує напрямок зміни параметрів.\n",
        "Швидкість навчання: Контролює розмір кроку при оновленні.\n",
        "Ітерації: Кількість проходів через навчальні дані."
      ],
      "metadata": {
        "id": "OC3ibGBPYlqf"
      }
    },
    {
      "cell_type": "markdown",
      "source": [
        "*3. Що таке швидкість навчання в контексті градієнтного спуску? Як вона\n",
        "впливає на процес оптимізації?*"
      ],
      "metadata": {
        "id": "5BuWnvprWzZf"
      }
    },
    {
      "cell_type": "markdown",
      "source": [
        "Швидкість навчання (learning rate) в контексті градієнтного спуску — це гіперпараметр, який визначає, на скільки зміщуються параметри моделі в напрямку градієнта під час кожного оновлення.\n",
        "\n",
        "Вплив на процес оптимізації:\n",
        "\n",
        "Висока швидкість навчання: Може призвести до швидкого сходження, але є ризик \"перескочити\" оптимальне значення або навіть вивести алгоритм з зони збіжності.\n",
        "\n",
        "Низька швидкість навчання: Гарантує більш точні оновлення параметрів, але процес навчання може бути повільним і вимагати більше ітерацій для досягнення оптимального рішення.\n",
        "\n",
        "Таким чином, правильний вибір швидкості навчання критично важливий для ефективності та стабільності алгоритму градієнтного спуску."
      ],
      "metadata": {
        "id": "-K8SJi5TYbjU"
      }
    },
    {
      "cell_type": "markdown",
      "source": [
        "*4. Як градієнтний спуск впорядковує параметри моделі?*\n"
      ],
      "metadata": {
        "id": "qxJy0DNMXPKe"
      }
    },
    {
      "cell_type": "markdown",
      "source": [
        "Градієнтний спуск впорядковує параметри моделі, обчислюючи градієнт функції втрат і оновлюючи параметри в напрямку, протилежному градієнту, щоб зменшити втрати. Цей процес повторюється, поки не буде досягнуто оптимальних значень параметрів."
      ],
      "metadata": {
        "id": "iJY7EIrKYTTu"
      }
    },
    {
      "cell_type": "markdown",
      "source": [
        "*5. Чому градієнтний спуск є одним з найпоширеніших методів оптимізації?*"
      ],
      "metadata": {
        "id": "snxRW-DhXTr2"
      }
    },
    {
      "cell_type": "markdown",
      "source": [
        "Градієнтний спуск є одним з найпоширеніших методів оптимізації, оскільки він простий у реалізації, ефективно працює з великими даними, застосовується до різних моделей машинного навчання і має можливість налаштування. Крім того, він здатний сходитися до оптимальних значень функції втрат і має багато варіацій, що дозволяє адаптувати його під конкретні задачі."
      ],
      "metadata": {
        "id": "yycv8wD7YHXu"
      }
    },
    {
      "cell_type": "markdown",
      "source": [
        "*6. Як обрати метод оптимізації для конкретної задачі?*"
      ],
      "metadata": {
        "id": "pBrv3dlYXVSM"
      }
    },
    {
      "cell_type": "markdown",
      "source": [
        "Для вибору методу оптимізації для конкретної задачі слід врахувати наступні фактори:\n",
        "\n",
        "Тип задачі: чи є данна задача мінімізацією чи максимізацією, а також чи є вона континуальною чи дискретною.\n",
        "\n",
        "Природа функції: треба проаналізувати, чи є функція гладкою, диференційованою, чи містить вона багато локальних мінімумів.\n",
        "\n",
        "Швидкість та ефективність: оцінити, скільки ресурсів (часу, пам'яті) потрібно для виконання алгоритму. Деякі методи, як градієнтний спуск, швидко сходяться, але можуть потрапляти в локальні мінімуми.\n",
        "\n",
        "Параметри задачі: визначити, чи ми можемо використовувати градієнти (методи, які їх вимагають) чи потрібно працювати без них (евристичні методи).\n",
        "\n",
        "Значення точності: визначити, наскільки критичною є точність результату для нашої задачі.\n"
      ],
      "metadata": {
        "id": "264N70QNXnAs"
      }
    },
    {
      "cell_type": "markdown",
      "source": [
        "##Додаток А"
      ],
      "metadata": {
        "id": "0V4B68J8RBw9"
      }
    },
    {
      "cell_type": "markdown",
      "source": [
        "Давайте зменшимо learning rate (наприклад, замість 0.01 використаємо 0.001) і запустимо алгоритм ще раз. Це дозволить нашому графіку бути більш плавним і показати поступове зменшення помилки.\n",
        "\n",
        "Кількість ітерацій залишимо такою ж (758)"
      ],
      "metadata": {
        "id": "mdQ2DkN7RFv4"
      }
    },
    {
      "cell_type": "code",
      "source": [
        "def gradient_descent_v2(data_x, data_y, learning_rate=0.001, max_epochs=2000):\n",
        "    slope = 0.0  # Параметр для експоненційної функції\n",
        "    intercept = 0.0  # Зсув\n",
        "    n = len(data_y)\n",
        "    error_history = []\n",
        "\n",
        "    for epoch in range(max_epochs):\n",
        "        predicted_y = slope * np.exp(data_x) + intercept\n",
        "        error = np.mean((predicted_y - data_y) ** 2)\n",
        "        error_history.append(error)\n",
        "\n",
        "        # Оновлюємо slope та intercept\n",
        "        dslope = (2/n) * np.sum((predicted_y - data_y) * np.exp(data_x))\n",
        "        dintercept = (2/n) * np.sum(predicted_y - data_y)\n",
        "        slope -= learning_rate * dslope\n",
        "        intercept -= learning_rate * dintercept\n",
        "\n",
        "        # Зупиняємо, якщо зміна мала\n",
        "        if epoch > 1 and abs(error_history[-2] - error_history[-1]) < 1e-6:\n",
        "            break\n",
        "\n",
        "    return slope, intercept, error_history\n",
        "\n",
        "# Викликаємо нову функцію градієнтного спуску\n",
        "slope_gd_v2, intercept_gd_v2, error_history_gd_v2 = gradient_descent_v2(x, y)\n",
        "\n",
        "# Візуалізуємо результати\n",
        "plt.plot(error_history_gd_v2)\n",
        "plt.title('Градієнтний спуск (версія 2): втрати')\n",
        "plt.xlabel('Ітерації')\n",
        "plt.ylabel('MSE')\n",
        "plt.show()\n"
      ],
      "metadata": {
        "colab": {
          "base_uri": "https://localhost:8080/",
          "height": 472
        },
        "id": "Jw9ZNGTORD4w",
        "outputId": "e1e023a9-37cc-42b7-e2e2-148152cac558"
      },
      "execution_count": 43,
      "outputs": [
        {
          "output_type": "display_data",
          "data": {
            "text/plain": [
              "<Figure size 640x480 with 1 Axes>"
            ],
            "image/png": "[encoded data removed]"
          },
          "metadata": {}
        }
      ]
    },
    {
      "cell_type": "markdown",
      "source": [
        "Можна побачити, що наш графік дійсно змінився у нижньому лівому куті. Тепер ми можемо побачити ту саму плавність. Справа в тому, що градієнтний спуск дуже чутливий до таких параметрів, як learning rate та кількість ітерацій."
      ],
      "metadata": {
        "id": "pxpoBSMGRUKH"
      }
    },
    {
      "cell_type": "markdown",
      "source": [
        "І тепер давайте перевіримо, як це повпливало на наші результати:"
      ],
      "metadata": {
        "id": "ckid_naaSS5g"
      }
    },
    {
      "cell_type": "code",
      "source": [
        "import numpy as np\n",
        "import matplotlib.pyplot as plt\n",
        "\n",
        "def gradient_descent_v2(data_x, data_y, learning_rate=0.001, max_epochs=758, target_mse=0.01):\n",
        "    slope = 0.0  # Параметр для експоненційної функції\n",
        "    intercept = 0.0  # Зсув\n",
        "    n = len(data_y)\n",
        "    error_history = []\n",
        "\n",
        "    for epoch in range(max_epochs):\n",
        "        predicted_y = slope * np.exp(data_x) + intercept\n",
        "        error = np.mean((predicted_y - data_y) ** 2)\n",
        "        error_history.append(error)\n",
        "\n",
        "        # Оновлюємо slope та intercept\n",
        "        dslope = (2/n) * np.sum((predicted_y - data_y) * np.exp(data_x))\n",
        "        dintercept = (2/n) * np.sum(predicted_y - data_y)\n",
        "        slope -= learning_rate * dslope\n",
        "        intercept -= learning_rate * dintercept\n",
        "\n",
        "        # Зупиняємо, якщо зміна мала або досягнуто бажаної точності\n",
        "        if epoch > 1 and abs(error_history[-2] - error_history[-1]) < 1e-6:\n",
        "            break\n",
        "        if error < target_mse:\n",
        "            break\n",
        "\n",
        "    return slope, intercept, error_history, epoch + 1\n",
        "\n",
        "# Викликаємо нову функцію градієнтного спуску\n",
        "slope_gd_v2, intercept_gd_v2, error_history_gd_v2, iterations_gd_v2 = gradient_descent_v2(x, y)\n",
        "\n",
        "# Візуалізуємо результати\n",
        "plt.plot(error_history_gd_v2)\n",
        "plt.title('Градієнтний спуск (версія 2): втрати')\n",
        "plt.xlabel('Ітерації')\n",
        "plt.ylabel('MSE')\n",
        "plt.show()\n",
        "\n",
        "# Виводимо результати\n",
        "print(f\"Градієнтний спуск (версія 2):\")\n",
        "print(f\"Остаточне MSE: {error_history_gd_v2[-1]}\")\n",
        "print(f\"Кількість ітерацій для досягнення бажаної точності: {iterations_gd_v2}\")\n"
      ],
      "metadata": {
        "colab": {
          "base_uri": "https://localhost:8080/",
          "height": 524
        },
        "id": "S4FGFkZ2SZvJ",
        "outputId": "256e1e97-5cd3-46cf-de8b-1c0169e1650e"
      },
      "execution_count": 51,
      "outputs": [
        {
          "output_type": "display_data",
          "data": {
            "text/plain": [
              "<Figure size 640x480 with 1 Axes>"
            ],
            "image/png": "[encoded data removed]"
          },
          "metadata": {}
        },
        {
          "output_type": "stream",
          "name": "stdout",
          "text": [
            "Градієнтний спуск (версія 2):\n",
            "Остаточне MSE: 0.06599069431593751\n",
            "Кількість ітерацій для досягнення бажаної точності: 758\n"
          ]
        }
      ]
    },
    {
      "cell_type": "markdown",
      "source": [
        "У першій версії коду з learning rate = 0.01 і 758 ітераціями ми отримали результат з хорошою точністю за меншу кількість ітерацій. Проте збільшення learning rate може призводити до нерегулярного зменшення помилки (осциляцій), оскільки алгоритм робить занадто великі кроки.\n",
        "\n",
        "У другій версії ми зменшила learning rate до 0.001 і залишили кількість ітерацій 758. Це зробило графік більш плавним, але результат MSE трохи погіршився, що є природнім, оскільки зменшена швидкість навчання означає, що алгоритм робить дуже маленькі кроки і не встигає досягти такого ж рівня точності за меншу кількість ітерацій."
      ],
      "metadata": {
        "id": "geZG1Y6vR_GD"
      }
    }
  ]
}