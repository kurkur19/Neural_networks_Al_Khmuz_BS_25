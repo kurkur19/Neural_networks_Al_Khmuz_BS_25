{
  "nbformat": 4,
  "nbformat_minor": 0,
  "metadata": {
    "colab": {
      "provenance": [],
      "toc_visible": true,
      "authorship_tag": "ABX9TyPrus7Ce7VhMJ1g0fr/2zX+",
      "include_colab_link": true
    },
    "kernelspec": {
      "name": "python3",
      "display_name": "Python 3"
    },
    "language_info": {
      "name": "python"
    }
  },
  "cells": [
    {
      "cell_type": "markdown",
      "metadata": {
        "id": "view-in-github",
        "colab_type": "text"
      },
      "source": [
        "<a href=\"https://colab.research.google.com/github/kurkur19/Neural_networks_Al_Khmuz_BS_25/blob/main/2lab_NN_Al_Khmuz_BS_25.ipynb\" target=\"_parent\"><img src=\"https://colab.research.google.com/assets/colab-badge.svg\" alt=\"Open In Colab\"/></a>"
      ]
    },
    {
      "cell_type": "markdown",
      "source": [
        "#ПРАКТИЧНА РОБОТА №2\n",
        "######МЕТОДИ ОПТИМІЗАЦІЇ\n"
      ],
      "metadata": {
        "id": "GHh1fi2145VZ"
      }
    },
    {
      "cell_type": "markdown",
      "source": [
        "###Мета роботи:\n",
        "ознайомитися із різноманітні методи оптимізації, які\n",
        "використовуються в машинному навчанні, зокрема, в області нейронних мереж."
      ],
      "metadata": {
        "id": "An7by1rC5RgJ"
      }
    },
    {
      "cell_type": "markdown",
      "source": [
        "##Теоретична частина"
      ],
      "metadata": {
        "id": "-aSalHRG5WA9"
      }
    },
    {
      "cell_type": "markdown",
      "source": [
        "##Практична частина"
      ],
      "metadata": {
        "id": "9k6_ky785srB"
      }
    },
    {
      "cell_type": "code",
      "execution_count": null,
      "metadata": {
        "id": "oPfzeIo_4yjF"
      },
      "outputs": [],
      "source": []
    }
  ]
}